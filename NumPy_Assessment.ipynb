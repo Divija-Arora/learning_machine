{
  "nbformat": 4,
  "nbformat_minor": 0,
  "metadata": {
    "colab": {
      "provenance": []
    },
    "kernelspec": {
      "name": "python3",
      "display_name": "Python 3"
    },
    "language_info": {
      "name": "python"
    }
  },
  "cells": [
    {
      "cell_type": "code",
      "source": [
        "import numpy as np"
      ],
      "metadata": {
        "id": "DBytPoCI8UwY"
      },
      "execution_count": null,
      "outputs": []
    },
    {
      "cell_type": "markdown",
      "source": [
        "#### 1. A teacher stores the scores of 10 students in a 1D NumPy array. Write code to display the 1D array and print scores greater than 50."
      ],
      "metadata": {
        "id": "StpqkjoD6Rak"
      }
    },
    {
      "cell_type": "code",
      "source": [
        "scores = np.array([60,20,40,95,100,80,45,85,90,95])\n",
        "scores # displaying 1D array\n"
      ],
      "metadata": {
        "colab": {
          "base_uri": "https://localhost:8080/"
        },
        "id": "KLRuZUvt7U0Z",
        "outputId": "652cfe58-0803-4c2f-8f34-8018d5115470"
      },
      "execution_count": null,
      "outputs": [
        {
          "output_type": "execute_result",
          "data": {
            "text/plain": [
              "array([ 60,  20,  40,  95, 100,  80,  45,  85,  90,  95])"
            ]
          },
          "metadata": {},
          "execution_count": 32
        }
      ]
    },
    {
      "cell_type": "code",
      "source": [
        "scores[scores > 50] # printing scores greater than 50"
      ],
      "metadata": {
        "colab": {
          "base_uri": "https://localhost:8080/"
        },
        "id": "WT3UaAw-Gg7V",
        "outputId": "11943216-491a-45cf-a2d8-7cfa4fbdc9dc"
      },
      "execution_count": null,
      "outputs": [
        {
          "output_type": "execute_result",
          "data": {
            "text/plain": [
              "array([ 60,  95, 100,  80,  85,  90,  95])"
            ]
          },
          "metadata": {},
          "execution_count": 31
        }
      ]
    },
    {
      "cell_type": "code",
      "source": [
        "# diplaying both in single code block\n",
        "print('all scores:', scores)\n",
        "print('scores greater than 50:', scores[scores>50])"
      ],
      "metadata": {
        "colab": {
          "base_uri": "https://localhost:8080/"
        },
        "id": "LUVdXJhAGmnj",
        "outputId": "fe5d47a4-be54-4ab9-c327-ef1ee13a7588"
      },
      "execution_count": null,
      "outputs": [
        {
          "output_type": "stream",
          "name": "stdout",
          "text": [
            "all scores: [ 60  20  40  95 100  80  45  85  90  95]\n",
            "scores greater than 50: [ 60  95 100  80  85  90  95]\n"
          ]
        }
      ]
    },
    {
      "cell_type": "markdown",
      "source": [
        "#### 2. Using the same scores array, find the mean score of the class."
      ],
      "metadata": {
        "id": "7bakJD4aHBnU"
      }
    },
    {
      "cell_type": "code",
      "source": [
        "mean_score = np.mean(scores)\n",
        "mean_score"
      ],
      "metadata": {
        "colab": {
          "base_uri": "https://localhost:8080/"
        },
        "id": "HApPWae2HQIx",
        "outputId": "6cfdaf24-40bd-42b7-c100-1369d103330e"
      },
      "execution_count": null,
      "outputs": [
        {
          "output_type": "execute_result",
          "data": {
            "text/plain": [
              "np.float64(71.0)"
            ]
          },
          "metadata": {},
          "execution_count": 34
        }
      ]
    },
    {
      "cell_type": "markdown",
      "source": [
        "3. Determine the median of the scores to check the central tendency."
      ],
      "metadata": {
        "id": "V1XuH4Q-6Yvq"
      }
    },
    {
      "cell_type": "code",
      "source": [
        "median_score = np.median(scores)\n",
        "median_score"
      ],
      "metadata": {
        "colab": {
          "base_uri": "https://localhost:8080/"
        },
        "id": "JMnV_ahlHwHW",
        "outputId": "3d6888b0-79f5-4675-83c5-9df678220f2e"
      },
      "execution_count": null,
      "outputs": [
        {
          "output_type": "execute_result",
          "data": {
            "text/plain": [
              "np.float64(82.5)"
            ]
          },
          "metadata": {},
          "execution_count": 35
        }
      ]
    },
    {
      "cell_type": "markdown",
      "source": [
        "4. Find the mode of the scores to identify the most frequent score."
      ],
      "metadata": {
        "id": "F4OUltqh6cCQ"
      }
    },
    {
      "cell_type": "code",
      "source": [
        "# mode_score = np.mode(scores)\n",
        "# mode_score\n",
        "# -> throws error\n",
        "# mode() is not part of NumPy (np).\n",
        "\n",
        "# unique elements and their counts\n",
        "unique, counts = np.unique(scores, return_counts=True)\n",
        "\n",
        "# unique → all the distinct elements in the array. (sorted)\n",
        "# counts → how many times each corresponding element occurs.\n",
        "\n",
        "#unique = [20, 40, 45, 60, 80, 85, 90, 95, 100]\n",
        "#counts = [1, 1, 1, 2, 1, 1, 1, 1, 1]\n",
        "\n",
        "\n",
        "mode_score = unique[np.argmax(counts)]\n",
        "\n",
        "# np.argmax(counts) - Finds the index of the maximum value in the counts array.\n",
        "# unique[np.argmax(counts) - Retrieves the element from unique at that index.\n",
        "\n",
        "mode_score\n",
        "\n",
        "# if all the elements have the same count (1), then 'np.argmax(counts)' returns the first index, which is 0\n",
        "# and hence unique[np.argmax(counts)] , retrieves the element from unique at that index.\n",
        "# in that case - So: unique[0] = 20\n",
        "# why 20 and not 60? even tho fisrt element toh 60 dia tha na array m\n",
        "# this is coz np.unique() always returns a sorted array of unique values and we have to look that array only.\n"
      ],
      "metadata": {
        "colab": {
          "base_uri": "https://localhost:8080/"
        },
        "id": "ydqaQzZDIIPb",
        "outputId": "50ce00bb-cb06-4d82-ddaa-1b73d07f5e2c"
      },
      "execution_count": null,
      "outputs": [
        {
          "output_type": "execute_result",
          "data": {
            "text/plain": [
              "np.int64(95)"
            ]
          },
          "metadata": {},
          "execution_count": 36
        }
      ]
    },
    {
      "cell_type": "code",
      "source": [
        "#scoree = np.array([60,20,40,65,100,80,45,85,90,95])\n",
        "#unique, counts = np.unique(scoree, return_counts=True)\n",
        "#mode_score = unique[np.argmax(counts)]           # [20, 40, 45, 60, 65, 80, 85, 90, 95, 100]  ← sorted unique array\n",
        "#mode_score\n",
        "\n",
        "#output - np.int64(20)\n",
        "\n",
        "#This doesn’t mean 20 is a true mode — it’s just the first number with the highest frequency (which is 1 for all values).\n",
        "#So technically, there is no mode here."
      ],
      "metadata": {
        "id": "HrG1xAzPLqYa"
      },
      "execution_count": null,
      "outputs": []
    },
    {
      "cell_type": "code",
      "source": [
        "frequency = counts[np.argmax(counts)]\n",
        "frequency # no of times it is occuring"
      ],
      "metadata": {
        "colab": {
          "base_uri": "https://localhost:8080/"
        },
        "id": "YcD7WwElNQJT",
        "outputId": "1387c085-58a3-441d-fe24-e674c26250c8"
      },
      "execution_count": null,
      "outputs": [
        {
          "output_type": "execute_result",
          "data": {
            "text/plain": [
              "np.int64(2)"
            ]
          },
          "metadata": {},
          "execution_count": 38
        }
      ]
    },
    {
      "cell_type": "code",
      "source": [
        "# using scipy\n",
        "from scipy import stats\n",
        "scores = np.array([60,20,40,95,100,80,45,85,90,95])\n",
        "mode_value = stats.mode(scores, keepdims=True) # stats.mode(array)\n",
        "mode_value"
      ],
      "metadata": {
        "colab": {
          "base_uri": "https://localhost:8080/"
        },
        "id": "fr36iKKoQkUK",
        "outputId": "af70ff3d-6226-4f9c-bfdc-bb71c784cd63"
      },
      "execution_count": null,
      "outputs": [
        {
          "output_type": "execute_result",
          "data": {
            "text/plain": [
              "ModeResult(mode=array([95]), count=array([2]))"
            ]
          },
          "metadata": {},
          "execution_count": 41
        }
      ]
    },
    {
      "cell_type": "code",
      "source": [
        "# why the output is displayed like this\n",
        "# we have asked python to just show the raw return value of the stats.mode() function.\n",
        "# That function returns a ModeResult object, which contains:\n",
        "# mode: the most frequent value(s) - here The most frequent value is 95\n",
        "# count: how many times that value appeared - here It occurred 2 times\n",
        "\n",
        "# now Why array([95]) instead of just 95\n",
        "# Because scipy.stats.mode() always returns the result as a NumPy array, even if it contains just one value.\n",
        "# This is done to support multidimensional data consistently.\n",
        "# So:\n",
        "# mode_value.mode → array([95])\n",
        "# mode_value.count → array([2])\n",
        "# To get the actual values, you will use:\n",
        "\n",
        "mode = mode_value.mode[0]\n",
        "count = mode_value.count[0]\n",
        "mode"
      ],
      "metadata": {
        "colab": {
          "base_uri": "https://localhost:8080/"
        },
        "id": "7IvrpMu9RoFW",
        "outputId": "dbade189-b74a-4a58-c918-099d703d938f"
      },
      "execution_count": null,
      "outputs": [
        {
          "output_type": "execute_result",
          "data": {
            "text/plain": [
              "np.int64(95)"
            ]
          },
          "metadata": {},
          "execution_count": 43
        }
      ]
    },
    {
      "cell_type": "code",
      "source": [
        "count"
      ],
      "metadata": {
        "colab": {
          "base_uri": "https://localhost:8080/"
        },
        "id": "bkQosJs9Slcc",
        "outputId": "d281cf53-ab0d-4854-9c75-2b58515b7b3f"
      },
      "execution_count": null,
      "outputs": [
        {
          "output_type": "execute_result",
          "data": {
            "text/plain": [
              "np.int64(2)"
            ]
          },
          "metadata": {},
          "execution_count": 44
        }
      ]
    },
    {
      "cell_type": "markdown",
      "source": [
        "#### 5. You are given a 2D NumPy array containing temperatures recorded over 4 weeks (rows) for 7 days (columns). Display the full array and the temperature of the second week."
      ],
      "metadata": {
        "id": "16EWEd4Y6f2K"
      }
    },
    {
      "cell_type": "code",
      "source": [
        "temperatures = np.array([\n",
        "    [30, 32, 31, 33, 34, 35, 33],  # Week 1\n",
        "    [31, 33, 34, 32, 30, 29, 28],  # Week 2\n",
        "    [29, 28, 30, 32, 33, 31, 30],  # Week 3\n",
        "    [34, 35, 36, 33, 32, 31, 30]   # Week 4\n",
        "])"
      ],
      "metadata": {
        "id": "q5mxvr42StAB"
      },
      "execution_count": null,
      "outputs": []
    },
    {
      "cell_type": "code",
      "source": [
        "temperatures.ndim # it is 2D"
      ],
      "metadata": {
        "colab": {
          "base_uri": "https://localhost:8080/"
        },
        "id": "J7ed7U7FTRz0",
        "outputId": "0e194371-541d-40ce-f794-2595c6c2b906"
      },
      "execution_count": null,
      "outputs": [
        {
          "output_type": "execute_result",
          "data": {
            "text/plain": [
              "2"
            ]
          },
          "metadata": {},
          "execution_count": 46
        }
      ]
    },
    {
      "cell_type": "code",
      "source": [
        "temperatures[1]"
      ],
      "metadata": {
        "colab": {
          "base_uri": "https://localhost:8080/"
        },
        "id": "Pqvi43d3TZTj",
        "outputId": "04bf988c-1473-4c63-f9c7-0442424e85a4"
      },
      "execution_count": null,
      "outputs": [
        {
          "output_type": "execute_result",
          "data": {
            "text/plain": [
              "array([31, 33, 34, 32, 30, 29, 28])"
            ]
          },
          "metadata": {},
          "execution_count": 47
        }
      ]
    },
    {
      "cell_type": "markdown",
      "source": [
        "6. Find the highest temperature of the month using NumPy."
      ],
      "metadata": {
        "id": "w5DVe5bY6ikP"
      }
    },
    {
      "cell_type": "code",
      "source": [
        "max_temperature = np.max(temperatures)\n",
        "max_temperature"
      ],
      "metadata": {
        "colab": {
          "base_uri": "https://localhost:8080/"
        },
        "id": "cPXC2cfkTtR4",
        "outputId": "230f0a0e-c694-4661-ed30-ac8e0c65e7d0"
      },
      "execution_count": null,
      "outputs": [
        {
          "output_type": "execute_result",
          "data": {
            "text/plain": [
              "np.int64(36)"
            ]
          },
          "metadata": {},
          "execution_count": 49
        }
      ]
    },
    {
      "cell_type": "markdown",
      "source": [
        "7. Normalize all temperatures using Min-Max normalization formula."
      ],
      "metadata": {
        "id": "_zIkY1l26nBb"
      }
    },
    {
      "cell_type": "markdown",
      "source": [
        "formula for normalized temperature-\n",
        "\n",
        "normalized_value= x - x min / x max - x min\n",
        "\n",
        "\n",
        "Where:\n",
        "x = original value, x min = minimum temperature, x max = maximum temperature\n"
      ],
      "metadata": {
        "id": "MAVfyGSJU86H"
      }
    },
    {
      "cell_type": "code",
      "source": [
        "min_temperature = np.min(temperatures) # since max_temperatures is already defined above\n",
        "\n",
        "normalized_temperatures = (temperatures - min_temperature) / (max_temperature - min_temperature)\n",
        "\n",
        "normalized_temperatures"
      ],
      "metadata": {
        "colab": {
          "base_uri": "https://localhost:8080/"
        },
        "id": "8fsSu25qT-D6",
        "outputId": "a1fdcdb7-7a33-4ffb-9cd7-9cbf46cdc6f6"
      },
      "execution_count": null,
      "outputs": [
        {
          "output_type": "execute_result",
          "data": {
            "text/plain": [
              "array([[0.25 , 0.5  , 0.375, 0.625, 0.75 , 0.875, 0.625],\n",
              "       [0.375, 0.625, 0.75 , 0.5  , 0.25 , 0.125, 0.   ],\n",
              "       [0.125, 0.   , 0.25 , 0.5  , 0.625, 0.375, 0.25 ],\n",
              "       [0.75 , 0.875, 1.   , 0.625, 0.5  , 0.375, 0.25 ]])"
            ]
          },
          "metadata": {},
          "execution_count": 55
        }
      ]
    },
    {
      "cell_type": "markdown",
      "source": [
        "#### 8. Calculate the standard deviation of the temperature data."
      ],
      "metadata": {
        "id": "4Xoa6gcX6r6t"
      }
    },
    {
      "cell_type": "code",
      "source": [
        "std_dev = np.std(temperatures)\n",
        "std_dev"
      ],
      "metadata": {
        "colab": {
          "base_uri": "https://localhost:8080/"
        },
        "id": "0tsbbwz1WpkY",
        "outputId": "5f3777fa-0ccd-4604-d33c-88707655dfdf"
      },
      "execution_count": null,
      "outputs": [
        {
          "output_type": "execute_result",
          "data": {
            "text/plain": [
              "np.float64(2.098043306103502)"
            ]
          },
          "metadata": {},
          "execution_count": 57
        }
      ]
    },
    {
      "cell_type": "markdown",
      "source": [
        "#### 9. A supermarket tracks stock of 3 products over 4 weeks and 5 categories. Represent this using a 3D NumPy array. Write code to access stock of 2nd product in week 3."
      ],
      "metadata": {
        "id": "p9HXr56O6ueJ"
      }
    },
    {
      "cell_type": "code",
      "source": [
        "np.random.seed(1) # also using seed to lock reproductivity\n",
        "stock = np.random.randint(100, size=(3, 4, 5)) # stock of 3 products over 4 weeks and 5 categories\n",
        "\n",
        "# Here, i am only giving one argument to randint, which is treated as the exclusive upper bound.\n",
        "# So this is equivalent to: stock = np.random.randint(0, 100, size=(3, 4, 5))\n",
        "\n",
        "stock\n",
        "# Represented this using a 3D NumPy array."
      ],
      "metadata": {
        "colab": {
          "base_uri": "https://localhost:8080/"
        },
        "id": "0uWnLY7oXxPp",
        "outputId": "70f7df63-65bc-4186-abbe-720eb484de89"
      },
      "execution_count": null,
      "outputs": [
        {
          "output_type": "execute_result",
          "data": {
            "text/plain": [
              "array([[[37, 12, 72,  9, 75],\n",
              "        [ 5, 79, 64, 16,  1],\n",
              "        [76, 71,  6, 25, 50],\n",
              "        [20, 18, 84, 11, 28]],\n",
              "\n",
              "       [[29, 14, 50, 68, 87],\n",
              "        [87, 94, 96, 86, 13],\n",
              "        [ 9,  7, 63, 61, 22],\n",
              "        [57,  1,  0, 60, 81]],\n",
              "\n",
              "       [[ 8, 88, 13, 47, 72],\n",
              "        [30, 71,  3, 70, 21],\n",
              "        [49, 57,  3, 68, 24],\n",
              "        [43, 76, 26, 52, 80]]])"
            ]
          },
          "metadata": {},
          "execution_count": 68
        }
      ]
    },
    {
      "cell_type": "code",
      "source": [
        "stock_spw3 = stock[1, 2, :] #Writing code to access stock of 2nd product in week 3.\n",
        "stock_spw3"
      ],
      "metadata": {
        "colab": {
          "base_uri": "https://localhost:8080/"
        },
        "id": "Gf0R5tn3ZbrW",
        "outputId": "f0478ccd-7d3a-418b-c1c4-87c7a539446f"
      },
      "execution_count": null,
      "outputs": [
        {
          "output_type": "execute_result",
          "data": {
            "text/plain": [
              "array([ 9,  7, 63, 61, 22])"
            ]
          },
          "metadata": {},
          "execution_count": 71
        }
      ]
    },
    {
      "cell_type": "markdown",
      "source": [
        " #### 10. Calculate the total stock of each product over all weeks and categories."
      ],
      "metadata": {
        "id": "Tb22uHod6z9O"
      }
    },
    {
      "cell_type": "code",
      "source": [
        "# To calculate the total stock of each product over all weeks and categories,\n",
        "# I need to sum along the last two axes (i.e., weeks and categories)\n",
        "\n",
        "total_stock_per_product = np.sum(stock, axis=(1, 2))\n",
        "# Sum over weeks (axis=1) and categories (axis=2)\n",
        "total_stock_per_product"
      ],
      "metadata": {
        "colab": {
          "base_uri": "https://localhost:8080/"
        },
        "id": "8vxkN906aqLG",
        "outputId": "d748c420-5854-4a1b-c248-fb95ff4f2fbf"
      },
      "execution_count": null,
      "outputs": [
        {
          "output_type": "execute_result",
          "data": {
            "text/plain": [
              "array([759, 985, 901])"
            ]
          },
          "metadata": {},
          "execution_count": 74
        }
      ]
    },
    {
      "cell_type": "markdown",
      "source": [
        " #### 11. A 1D NumPy array holds survey ratings (scale of 1–10) from 50 people. Find how many people rated more than 7."
      ],
      "metadata": {
        "id": "6qBhNyTl62fu"
      }
    },
    {
      "cell_type": "code",
      "source": [
        "np.random.seed(2)\n",
        "ratings = np.random.randint(1, 11, size=50) ## rating 1 to 10 inclusive, size = 50 people\n",
        "ratings"
      ],
      "metadata": {
        "colab": {
          "base_uri": "https://localhost:8080/"
        },
        "id": "LUK0g0LWbxFj",
        "outputId": "6b87f7d5-8c8a-485f-fe47-dc58829f0536"
      },
      "execution_count": null,
      "outputs": [
        {
          "output_type": "execute_result",
          "data": {
            "text/plain": [
              "array([ 9,  9,  7,  3,  9,  8,  3,  2,  6,  5,  5,  6,  8,  4,  7,  5,  4,\n",
              "        8,  7,  2,  4,  6,  9,  5,  7,  4, 10,  3,  1,  5,  3,  5,  2,  8,\n",
              "        9,  3, 10,  9,  8,  2,  7,  9,  6, 10, 10, 10,  4,  1,  1,  3])"
            ]
          },
          "metadata": {},
          "execution_count": 78
        }
      ]
    },
    {
      "cell_type": "code",
      "source": [
        "rated_above_7 = ratings[ratings > 7] # people who rated above 7\n",
        "rated_above_7"
      ],
      "metadata": {
        "colab": {
          "base_uri": "https://localhost:8080/"
        },
        "id": "kfZ5s40rcOci",
        "outputId": "33557679-7d9b-4c9c-cba5-a89dacd9bed5"
      },
      "execution_count": null,
      "outputs": [
        {
          "output_type": "execute_result",
          "data": {
            "text/plain": [
              "array([ 9,  9,  9,  8,  8,  8,  9, 10,  8,  9, 10,  9,  8,  9, 10, 10, 10])"
            ]
          },
          "metadata": {},
          "execution_count": 80
        }
      ]
    },
    {
      "cell_type": "code",
      "source": [
        "len(rated_above_7) # total number of people who rated above 7"
      ],
      "metadata": {
        "colab": {
          "base_uri": "https://localhost:8080/"
        },
        "id": "MH6GlYiqcsjM",
        "outputId": "289aa2e9-57e0-401c-9a6c-62a3c2cd5f73"
      },
      "execution_count": null,
      "outputs": [
        {
          "output_type": "execute_result",
          "data": {
            "text/plain": [
              "17"
            ]
          },
          "metadata": {},
          "execution_count": 81
        }
      ]
    },
    {
      "cell_type": "code",
      "source": [
        "# or directly we can do this:\n",
        "count_above_7 = np.sum(ratings > 7) # here we directly find how many people rated more than 7\n",
        "count_above_7"
      ],
      "metadata": {
        "colab": {
          "base_uri": "https://localhost:8080/"
        },
        "id": "6ss2gk1Gc6G4",
        "outputId": "d79df6d1-de7b-43ee-fd2a-a3626a3df9cb"
      },
      "execution_count": null,
      "outputs": [
        {
          "output_type": "execute_result",
          "data": {
            "text/plain": [
              "np.int64(17)"
            ]
          },
          "metadata": {},
          "execution_count": 84
        }
      ]
    },
    {
      "cell_type": "markdown",
      "source": [
        "#### 12. Count how many people gave a neutral rating (rating == 5)."
      ],
      "metadata": {
        "id": "mbvPhh_x64t9"
      }
    },
    {
      "cell_type": "code",
      "source": [
        "neutral_ratings = ratings[ratings == 5]\n",
        "len(neutral_ratings)"
      ],
      "metadata": {
        "colab": {
          "base_uri": "https://localhost:8080/"
        },
        "id": "mZrYWo7CdX8v",
        "outputId": "51bdd0e6-05f0-4ed3-f0cd-0f9f4d6d20af"
      },
      "execution_count": null,
      "outputs": [
        {
          "output_type": "execute_result",
          "data": {
            "text/plain": [
              "6"
            ]
          },
          "metadata": {},
          "execution_count": 88
        }
      ]
    },
    {
      "cell_type": "code",
      "source": [
        "# shorter way\n",
        "count_neutral = np.sum(ratings == 5)\n",
        "count_neutral"
      ],
      "metadata": {
        "colab": {
          "base_uri": "https://localhost:8080/"
        },
        "id": "udBEn7kmdwXi",
        "outputId": "0b03ecb2-f59e-48e5-9096-92f7adc8114d"
      },
      "execution_count": null,
      "outputs": [
        {
          "output_type": "execute_result",
          "data": {
            "text/plain": [
              "np.int64(6)"
            ]
          },
          "metadata": {},
          "execution_count": 89
        }
      ]
    },
    {
      "cell_type": "markdown",
      "source": [
        " 13. Normalize the ratings between 0 and 1."
      ],
      "metadata": {
        "id": "eSVPBUlg671v"
      }
    },
    {
      "cell_type": "code",
      "source": [
        "# To normalize the ratings between 0 and 1, we can use the Min-Max normalization formula as mentioned above.\n",
        "# Since this formula mathematically guarantees that every normalized value is in [0,1].\n",
        "min_val = np.min(ratings)\n",
        "max_val = np.max(ratings)\n",
        "normalized_ratings = (ratings - min_val) / (max_val - min_val)\n",
        "normalized_ratings"
      ],
      "metadata": {
        "colab": {
          "base_uri": "https://localhost:8080/"
        },
        "id": "lkgB709Fd_Kd",
        "outputId": "aa8dc5e6-e22d-4658-9232-97bcfde9da8d"
      },
      "execution_count": null,
      "outputs": [
        {
          "output_type": "execute_result",
          "data": {
            "text/plain": [
              "array([0.88888889, 0.88888889, 0.66666667, 0.22222222, 0.88888889,\n",
              "       0.77777778, 0.22222222, 0.11111111, 0.55555556, 0.44444444,\n",
              "       0.44444444, 0.55555556, 0.77777778, 0.33333333, 0.66666667,\n",
              "       0.44444444, 0.33333333, 0.77777778, 0.66666667, 0.11111111,\n",
              "       0.33333333, 0.55555556, 0.88888889, 0.44444444, 0.66666667,\n",
              "       0.33333333, 1.        , 0.22222222, 0.        , 0.44444444,\n",
              "       0.22222222, 0.44444444, 0.11111111, 0.77777778, 0.88888889,\n",
              "       0.22222222, 1.        , 0.88888889, 0.77777778, 0.11111111,\n",
              "       0.66666667, 0.88888889, 0.55555556, 1.        , 1.        ,\n",
              "       1.        , 0.33333333, 0.        , 0.        , 0.22222222])"
            ]
          },
          "metadata": {},
          "execution_count": 91
        }
      ]
    },
    {
      "cell_type": "markdown",
      "source": [
        "#### 14. A fitness app stores 7 days of step count for 5 users in a 2D array. Find the average steps per user."
      ],
      "metadata": {
        "id": "jY_lDogh6-Bj"
      }
    },
    {
      "cell_type": "code",
      "source": [
        "# A 2D array: Rows = users (5 users) ; Columns = days (7 days)\n",
        "steps = np.array([\n",
        "    [5000, 6000, 7000, 8000, 9000, 7500, 6500],  # User 1\n",
        "    [4000, 4500, 5000, 5500, 6000, 5800, 6200],  # User 2\n",
        "    [8000, 8500, 9000, 9500, 10000, 9800, 9700], # User 3\n",
        "    [3000, 3200, 3500, 3700, 4000, 3900, 3600],  # User 4\n",
        "    [7000, 7200, 7500, 7800, 8000, 7900, 7700]   # User 5\n",
        "])\n",
        "average_steps_per_user = np.mean(steps, axis=1)\n",
        "# Compute average steps per user (mean along axis=1)\n",
        "# axis=1 means: compute mean across columns (days), per row (user).\n",
        "average_steps_per_user"
      ],
      "metadata": {
        "colab": {
          "base_uri": "https://localhost:8080/"
        },
        "id": "0EgWTm8de0tb",
        "outputId": "11364510-d899-4f27-fcd5-8ea9aa8cdae4"
      },
      "execution_count": null,
      "outputs": [
        {
          "output_type": "execute_result",
          "data": {
            "text/plain": [
              "array([7000.        , 5285.71428571, 9214.28571429, 3557.14285714,\n",
              "       7585.71428571])"
            ]
          },
          "metadata": {},
          "execution_count": 104
        }
      ]
    },
    {
      "cell_type": "code",
      "source": [
        "avg_steps = np.mean(steps, axis=1).astype(int)\n",
        "avg_steps # just truncated (chop decimals)"
      ],
      "metadata": {
        "colab": {
          "base_uri": "https://localhost:8080/"
        },
        "id": "Q7txGy_hgn7q",
        "outputId": "1dd66e41-74df-45de-8665-e25730318fa5"
      },
      "execution_count": null,
      "outputs": [
        {
          "output_type": "execute_result",
          "data": {
            "text/plain": [
              "array([7000, 5285, 9214, 3557, 7585])"
            ]
          },
          "metadata": {},
          "execution_count": 94
        }
      ]
    },
    {
      "cell_type": "code",
      "source": [
        "avg_step = np.round(np.mean(steps, axis=1)).astype(int)\n",
        "avg_step # here rounded integers"
      ],
      "metadata": {
        "colab": {
          "base_uri": "https://localhost:8080/"
        },
        "id": "fShe4omegy-q",
        "outputId": "7deab14a-1872-4de7-8632-97b7e208d361"
      },
      "execution_count": null,
      "outputs": [
        {
          "output_type": "execute_result",
          "data": {
            "text/plain": [
              "array([7000, 5286, 9214, 3557, 7586])"
            ]
          },
          "metadata": {},
          "execution_count": 95
        }
      ]
    },
    {
      "cell_type": "markdown",
      "source": [
        "#### 15. Display the steps recorded on day 3 for all users."
      ],
      "metadata": {
        "id": "tZfK3uXd7CI0"
      }
    },
    {
      "cell_type": "code",
      "source": [
        "steps[:, 2]"
      ],
      "metadata": {
        "colab": {
          "base_uri": "https://localhost:8080/"
        },
        "id": "aSX6Gw3IhIvW",
        "outputId": "0abbd75b-9314-44cd-dde7-59fc91ddeb40"
      },
      "execution_count": null,
      "outputs": [
        {
          "output_type": "execute_result",
          "data": {
            "text/plain": [
              "array([7000, 5000, 9000, 3500, 7500])"
            ]
          },
          "metadata": {},
          "execution_count": 97
        }
      ]
    },
    {
      "cell_type": "markdown",
      "source": [
        "#### 16. Identify users who walked more than 7000 steps on any day."
      ],
      "metadata": {
        "id": "S5a0XAs97ED5"
      }
    },
    {
      "cell_type": "code",
      "source": [
        "more_than_7000 = steps[steps > 7000]\n",
        "# This filters all individual values in the 2D array that are greater than 7000 — it gives a 1D array of values, not users.\n",
        "len(more_than_7000) # while this just counts how many individual values are > 7000\n",
        "\n",
        "# here I am just filtering values, not identifying which user (row) had them."
      ],
      "metadata": {
        "colab": {
          "base_uri": "https://localhost:8080/"
        },
        "id": "jpvMGLcFhhZa",
        "outputId": "b2bc9fef-827b-4166-e926-7c5a8162baec"
      },
      "execution_count": null,
      "outputs": [
        {
          "output_type": "execute_result",
          "data": {
            "text/plain": [
              "16"
            ]
          },
          "metadata": {},
          "execution_count": 100
        }
      ]
    },
    {
      "cell_type": "code",
      "source": [
        "# Correct approach for identifying users:\n",
        "# To identify users (rows) who had any value > 7000,\n",
        "more_than_7000 = np.any(steps > 7000, axis=1) # steps > 7000 → returns a boolean array where each value indicates if steps > 7000\n",
        "# np.any(..., axis=1) → checks if any day for a user has value > 7000\n",
        "user_indices = np.where(more_than_7000)[0] # np.where(...) → gets the indices of users who satisfy the condition\n",
        "user_numbers = user_indices + 1\n",
        "user_numbers\n",
        "\n",
        "# output - It means users 1, 3, and 5 had at least one day with more than 7000 steps."
      ],
      "metadata": {
        "colab": {
          "base_uri": "https://localhost:8080/"
        },
        "id": "FHNdFVOViS_k",
        "outputId": "ce515006-291d-43a1-c529-e0dbc0c47313"
      },
      "execution_count": null,
      "outputs": [
        {
          "output_type": "execute_result",
          "data": {
            "text/plain": [
              "array([1, 3, 5])"
            ]
          },
          "metadata": {},
          "execution_count": 107
        }
      ]
    },
    {
      "cell_type": "markdown",
      "source": [
        "#### 17. Record the results of 10 trials for 3 chemical samples using a 2D array. Calculate the mean result for each chemical."
      ],
      "metadata": {
        "id": "JhWLcNuP7Fwa"
      }
    },
    {
      "cell_type": "code",
      "source": [
        "np.random.seed(5)\n",
        "\n",
        "results = np.random.randint(50, size=(10, 3)) # size=(10, 3) → 10 trials × 3 chemicals\n",
        "results\n",
        "# rows represnting trials, colums repesenting chemical samples"
      ],
      "metadata": {
        "colab": {
          "base_uri": "https://localhost:8080/"
        },
        "id": "u6wyk8LvlMV0",
        "outputId": "e65cc9d7-e2fb-4ade-efef-190147412c0e"
      },
      "execution_count": null,
      "outputs": [
        {
          "output_type": "execute_result",
          "data": {
            "text/plain": [
              "array([[35, 14, 47],\n",
              "       [38, 16,  9],\n",
              "       [ 8, 36, 39],\n",
              "       [27, 48, 30],\n",
              "       [16,  7, 12],\n",
              "       [15, 49, 39],\n",
              "       [16, 27, 44],\n",
              "       [13, 11,  1],\n",
              "       [47, 30, 20],\n",
              "       [22, 18,  9]])"
            ]
          },
          "metadata": {},
          "execution_count": 110
        }
      ]
    },
    {
      "cell_type": "code",
      "source": [
        "# calculating the mean result for each chemical\n",
        "# calculating column-wise mean coz rows represnting trials and colums repesenting chemical samples\n",
        "mean_results = results.mean(axis=0) # axis=0 → column-wise operation (i.e., per chemical)\n",
        "mean_results"
      ],
      "metadata": {
        "colab": {
          "base_uri": "https://localhost:8080/"
        },
        "id": "dox-WyNllk1T",
        "outputId": "061839df-0d4b-4266-d945-0444d1ded7a9"
      },
      "execution_count": null,
      "outputs": [
        {
          "output_type": "execute_result",
          "data": {
            "text/plain": [
              "array([23.7, 25.6, 25. ])"
            ]
          },
          "metadata": {},
          "execution_count": 111
        }
      ]
    },
    {
      "cell_type": "markdown",
      "source": [
        "#### 18. Determine which trial had the highest deviation from the mean for each sample."
      ],
      "metadata": {
        "id": "yNYYbT0z7JG_"
      }
    },
    {
      "cell_type": "markdown",
      "source": [
        "To determine which trial had the highest deviation from the mean for each chemical sample (i.e., column), follow these steps:\n",
        "\n",
        "---\n",
        "\n",
        "\n",
        "*   Step 1: Calculate mean per chemical (column)\n",
        "*   Step 2: Calculate absolute deviation from mean for each trial\n",
        "*   Step 3: Find the index (trial) of the max deviation for each chemical"
      ],
      "metadata": {
        "id": "4SmGPgKBmZsH"
      }
    },
    {
      "cell_type": "code",
      "source": [
        "mean_results = results.mean(axis=0)\n",
        "deviation = np.abs(results - mean_results)\n",
        "max_deviation_trials = np.argmax(deviation, axis=0)\n",
        "max_deviation_trials"
      ],
      "metadata": {
        "colab": {
          "base_uri": "https://localhost:8080/"
        },
        "id": "8Wxgsub6m2A9",
        "outputId": "7d9019bc-db6d-474a-e1fa-b7abc1e71894"
      },
      "execution_count": null,
      "outputs": [
        {
          "output_type": "execute_result",
          "data": {
            "text/plain": [
              "array([8, 5, 7])"
            ]
          },
          "metadata": {},
          "execution_count": 114
        }
      ]
    },
    {
      "cell_type": "markdown",
      "source": [
        "output -\n",
        "For Chemical 1 (first column), Trial 8 had the highest deviation from its mean.\n",
        "\n",
        "For Chemical 2 (second column), Trial 5 had the highest deviation from its mean.\n",
        "\n",
        "For Chemical 3 (third column), Trial 7 had the highest deviation from its mean."
      ],
      "metadata": {
        "id": "bJ_myShKnWW9"
      }
    },
    {
      "cell_type": "markdown",
      "source": [
        " #### 19. A hospital records 3 vital signs for 2 patients over 5 days. Store this in a 3D array and retrieve the vitals for the first patient on day 4."
      ],
      "metadata": {
        "id": "AaWw36bM7LzD"
      }
    },
    {
      "cell_type": "markdown",
      "source": [
        "The hospital is tracking 3 health readings for each patient every day.\n",
        "\n",
        "---\n",
        "\n",
        "Examples of vital signs could be:\n",
        "\n",
        "*   Blood Pressure (BP)\n",
        "*   Heart Rate (HR)\n",
        "*   Temperature (Temp)\n",
        "\n",
        "---\n",
        "\n",
        "There are:\n",
        "\n",
        "2 patients → so 2 entries\n",
        "\n",
        "5 days → for each patient\n",
        "\n",
        "3 vitals per day\n",
        "\n",
        "---\n",
        "so 3D array shape will be\n",
        "(patients, days, vitals) = (2, 5, 3)"
      ],
      "metadata": {
        "id": "WSdt6-Y3o1X0"
      }
    },
    {
      "cell_type": "code",
      "source": [
        "np.random.seed(5)\n",
        "vitals = np.random.randint(60, size=(2, 5, 3)) # 2 patients, 5 days, 3 vitals\n",
        "vitals"
      ],
      "metadata": {
        "colab": {
          "base_uri": "https://localhost:8080/"
        },
        "id": "_NJobyDhnn8I",
        "outputId": "11695c96-328c-4662-84d5-8a6cf1132afa"
      },
      "execution_count": null,
      "outputs": [
        {
          "output_type": "execute_result",
          "data": {
            "text/plain": [
              "array([[[35, 14, 47],\n",
              "        [38, 54, 16],\n",
              "        [ 9,  8, 36],\n",
              "        [39, 27, 48],\n",
              "        [30, 16,  7]],\n",
              "\n",
              "       [[12, 15, 49],\n",
              "        [53, 39, 16],\n",
              "        [27, 44, 13],\n",
              "        [11,  1, 47],\n",
              "        [30, 20, 22]]])"
            ]
          },
          "metadata": {},
          "execution_count": 122
        }
      ]
    },
    {
      "cell_type": "code",
      "source": [
        "# Retrieve vitals for the first patient (index 0) on day 4 (index 3).\n",
        "retrieving = vitals[0, 3]\n",
        "retrieving"
      ],
      "metadata": {
        "colab": {
          "base_uri": "https://localhost:8080/"
        },
        "id": "1_a7GzfMoI6b",
        "outputId": "9273ceee-8755-45ea-cf65-59c57eee18e7"
      },
      "execution_count": null,
      "outputs": [
        {
          "output_type": "execute_result",
          "data": {
            "text/plain": [
              "array([39, 27, 48])"
            ]
          },
          "metadata": {},
          "execution_count": 123
        }
      ]
    },
    {
      "cell_type": "markdown",
      "source": [
        "20. Find the mode of a particular vital sign for one patient across all days."
      ],
      "metadata": {
        "id": "gITBDFci7NwP"
      }
    },
    {
      "cell_type": "code",
      "source": [
        "# Let’s say we want the 2nd vital sign (index 1) of Patient 1 (index 0):\n",
        "vital_sign_values = vitals[0, :, 1] # vitals[0, :, 1] → accesses the 2nd vital sign of patient 1 across all 5 days.\n",
        "mode_result = stats.mode(vital_sign_values, keepdims=True)\n",
        "mode_result.mode[0]"
      ],
      "metadata": {
        "colab": {
          "base_uri": "https://localhost:8080/"
        },
        "id": "RC2vkdwJpgHX",
        "outputId": "354336db-8af6-420c-f555-550fd7a40731"
      },
      "execution_count": null,
      "outputs": [
        {
          "output_type": "execute_result",
          "data": {
            "text/plain": [
              "np.int64(8)"
            ]
          },
          "metadata": {},
          "execution_count": 124
        }
      ]
    },
    {
      "cell_type": "code",
      "source": [
        "mode_result.count[0] # frequency"
      ],
      "metadata": {
        "colab": {
          "base_uri": "https://localhost:8080/"
        },
        "id": "b-Ac3FA4qlFw",
        "outputId": "1dee5aae-6b61-43e1-8eea-8373af8cbc04"
      },
      "execution_count": null,
      "outputs": [
        {
          "output_type": "execute_result",
          "data": {
            "text/plain": [
              "np.int64(1)"
            ]
          },
          "metadata": {},
          "execution_count": 126
        }
      ]
    }
  ]
}