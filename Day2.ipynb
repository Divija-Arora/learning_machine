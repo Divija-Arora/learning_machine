{
  "nbformat": 4,
  "nbformat_minor": 0,
  "metadata": {
    "colab": {
      "private_outputs": true,
      "provenance": []
    },
    "kernelspec": {
      "name": "python3",
      "display_name": "Python 3"
    },
    "language_info": {
      "name": "python"
    }
  },
  "cells": [
    {
      "cell_type": "code",
      "execution_count": null,
      "metadata": {
        "id": "M5OVwGAzXhsu"
      },
      "outputs": [],
      "source": [
        "#Pandas:It's a standard python library use for the data manipulation purpose.\n",
        "#Mainly use to work with the Series and DataFrame.\n",
        "#Series is 1D and DataFrame is 2D"
      ]
    },
    {
      "cell_type": "code",
      "source": [
        "import pandas as pd\n",
        "import numpy as np"
      ],
      "metadata": {
        "id": "qS7XuZAtX3lf"
      },
      "execution_count": null,
      "outputs": []
    },
    {
      "cell_type": "code",
      "source": [
        "#Basic Series concept\n",
        "one = np.array([10,20,30,40,50]) # firstly adding one 1D array\n",
        "S = pd.Series(one) # importing this 1D array in the series\n",
        "print(S) # printing the series\n",
        "print(S.ndim) # also checking the dimension"
      ],
      "metadata": {
        "id": "4wrnryGWYCeh"
      },
      "execution_count": null,
      "outputs": []
    },
    {
      "cell_type": "code",
      "source": [
        "#Setting the index manualy\n",
        "one = np.array([10,20,30,40,50])\n",
        "i=[100,200,300,400,500] # so here we wrote the index manually\n",
        "S = pd.Series(one,index =i) # and used the inbuilt parameters present in the series\n",
        "print(S)\n",
        "print(S.ndim)"
      ],
      "metadata": {
        "id": "W5SYT4KyY4G2"
      },
      "execution_count": null,
      "outputs": []
    },
    {
      "cell_type": "code",
      "source": [
        "#Creating the Series using dictionary\n",
        "d={\n",
        "\n",
        "   \"Country\":\"India\",\n",
        "   \"Captain\":\"Rohit Sharma\",\n",
        "   \"Runs\":10000,\n",
        "   \"Trophys\":2\n",
        "}\n",
        "# above d is a dictionary created, now we want to convert it into a series\n",
        "# also left side of the dictionary is indicating keys, while right hand side indicates the values\n",
        "S=pd.Series(d) #\n",
        "print(S)\n",
        "print(S.ndim)"
      ],
      "metadata": {
        "id": "c786V9zKZJaZ"
      },
      "execution_count": null,
      "outputs": []
    },
    {
      "cell_type": "code",
      "source": [
        "#Creating the series within a list and dictionary combination\n",
        "\n",
        "#suppose we want to import the multiple number of dictionaries within a list and with respect to that we want to create 1 series\n",
        "d=[\n",
        "    {\"Country\":\"India\",\"Captain\":\"Rohit Sharma\",\"Trophys\":2},\n",
        "    {\"Country\":\"Australia\",\"Captain\":\"Pat Cummins\",\"Trophys\":4},\n",
        "    {\"Country\":\"South Africa\",\"Captain\":\"Aiden Markram\",\"Trophys\":1}\n",
        "]\n",
        "\n",
        "s = pd.Series(d)\n",
        "print(s)\n",
        "print(S.ndim)\n",
        "# we can see in the output it is representing 0,1,2 , indicating the index"
      ],
      "metadata": {
        "id": "xKYj7UDaayg_"
      },
      "execution_count": null,
      "outputs": []
    },
    {
      "cell_type": "code",
      "source": [
        "#DataFrame\n",
        "# DataFrame is 2D\n",
        "d={\n",
        "\n",
        "   \"Country\":\"India\",\n",
        "   \"Captain\":\"Rohit Sharma\",\n",
        "   \"Runs\":10000,\n",
        "   \"Trophys\":2\n",
        "}\n",
        "# we get the error - saying if u r using the scalar values, u must pass an index\n",
        "# it means dataframe is  2D , but i am working with 1D\n",
        "# therefore I will now just provide it the list in the next cell\n",
        "df = pd.DataFrame(d)\n",
        "print(df)\n",
        "print(df.ndim)"
      ],
      "metadata": {
        "id": "uNuih3ara2eu"
      },
      "execution_count": null,
      "outputs": []
    },
    {
      "cell_type": "code",
      "source": [
        "d={\n",
        "\n",
        "   \"Country\":[\"India\"],\n",
        "   \"Captain\":[\"Rohit Sharma\"],\n",
        "   \"Runs\":[10000],\n",
        "   \"Trophys\":[2]\n",
        "}\n",
        "\n",
        "df = pd.DataFrame(d)\n",
        "print(df)\n",
        "print(df.ndim)\n",
        "\n",
        "# also. here we can observe that in series it was printing the indices and the values but for the data frame , here 0 actaully representing the row number\n",
        "# while country, captain, runs, trophys - representing the columns\n",
        "# it means in the series , its actually treating it as an index but in dataframe the entire thing is represented in rows and columns form i.e dataframe is 2D.\n"
      ],
      "metadata": {
        "id": "m8sfRDM0iWaX"
      },
      "execution_count": null,
      "outputs": []
    },
    {
      "cell_type": "code",
      "source": [
        "d=[\n",
        "    {\"Country\":\"India\",\"Captain\":\"Rohit Sharma\",\"Trophys\":2},\n",
        "    {\"Country\":\"Australia\",\"Captain\":\"Pat Cummins\",\"Trophys\":4},\n",
        "    {\"Country\":\"South Africa\",\"Captain\":\"Aiden Markram\",\"Trophys\":1}\n",
        "] # here writing the dictionary under the list\n",
        "\n",
        "df= pd.DataFrame(d)\n",
        "print(df)\n",
        "print(df.ndim)\n",
        "# so here in the output 0, 1, 2 are the rown indices\n",
        "# and country, captain, trophys, runs are the columns, in ML terminologies, columns names are knowns as Features"
      ],
      "metadata": {
        "id": "XQ8pvmKocTFI"
      },
      "execution_count": null,
      "outputs": []
    },
    {
      "cell_type": "code",
      "source": [
        "# what happens if only one index contain key value pairs and others don't\n",
        "# below is an example\n",
        "d=[\n",
        "    {\"Country\":\"India\",\"Captain\":\"Rohit Sharma\",\"Trophys\":2,\"Runs\":10000},\n",
        "    {\"Country\":\"Australia\",\"Captain\":\"Pat Cummins\",\"Trophys\":4},\n",
        "    {\"Country\":\"South Africa\",\"Captain\":\"Aiden Markram\",\"Trophys\":1}\n",
        "]\n",
        "\n",
        "df= pd.DataFrame(d)\n",
        "print(df)\n",
        "print(df.ndim)\n",
        "\n",
        "# it fills the null value"
      ],
      "metadata": {
        "id": "ydRUdJYenPQT"
      },
      "execution_count": null,
      "outputs": []
    },
    {
      "cell_type": "markdown",
      "source": [
        "NOW WE WILL WORK WITH RESPECT TO THE DATASETS"
      ],
      "metadata": {
        "id": "UXf4a-oymdHL"
      }
    },
    {
      "cell_type": "code",
      "source": [
        "#Working wih the datasets\n",
        "#Uploading the data\n",
        "df =pd.read_csv('eye_cancer_patients.csv')\n",
        "df"
      ],
      "metadata": {
        "id": "gQNiH4gicynm"
      },
      "execution_count": null,
      "outputs": []
    },
    {
      "cell_type": "code",
      "source": [
        "from google.colab import drive\n",
        "drive.mount('/content/drive')"
      ],
      "metadata": {
        "id": "MqRHtfEPTgaX"
      },
      "execution_count": null,
      "outputs": []
    },
    {
      "cell_type": "code",
      "source": [
        "#Use for printing the top 10 rows\n",
        "df.head(10)"
      ],
      "metadata": {
        "id": "fz17b5-BfKj_"
      },
      "execution_count": null,
      "outputs": []
    },
    {
      "cell_type": "code",
      "source": [
        "#Last 10 rows\n",
        "df.tail(10)"
      ],
      "metadata": {
        "id": "apxoNankfmcH"
      },
      "execution_count": null,
      "outputs": []
    },
    {
      "cell_type": "code",
      "source": [
        "#Print the number of rows  and columns, then we will use the shape function\n",
        "df.shape\n",
        "#5000 rows, 16 columns(features)"
      ],
      "metadata": {
        "id": "7Esi-pzKfvxa"
      },
      "execution_count": null,
      "outputs": []
    },
    {
      "cell_type": "code",
      "source": [
        "#For all the stastical calculation the describe\n",
        "# that is we want to observe all the statistical calculation means like maximum value , minimum value, average we use describe function\n",
        "# this describe function only works for numerical features not the string features\n",
        "df.describe()\n",
        "# as we can see that in the dataset patientid (shown above) is the object datatype that is combination of strings and integers therefore they won't work in describe function\n",
        "# while age will work"
      ],
      "metadata": {
        "id": "lyMorOMwf-Gu"
      },
      "execution_count": null,
      "outputs": []
    },
    {
      "cell_type": "code",
      "source": [
        "# lets convert it into integer type, coz count value should not be the float\n",
        "df.describe().astype(int)\n",
        "# here std in output is standard deviation\n",
        "# here 25 % in ouput means sum all the age values, after sum calculating 25% , 50% and 75%\n",
        "# why so ? -  there is a concept called IQR - inter quartile range, in features engineering\n",
        "# in features engineering, we have to just handle the outliers , we have to work with IQR\n",
        "# so for first quarter it takes 25 percent, second - 50% and third - 75%"
      ],
      "metadata": {
        "id": "ETNmUZV-K6cC"
      },
      "execution_count": null,
      "outputs": []
    },
    {
      "cell_type": "code",
      "source": [
        "# To check the information of the data\n",
        "df.info()\n",
        "# now we can see in all, out of 5000 all the 5000 values are non-null while for genetic_markers out of 5000 only 2503 are no null\n",
        "# means rest value is null in genetic_markers"
      ],
      "metadata": {
        "id": "SCsHbOoSg_E6"
      },
      "execution_count": null,
      "outputs": []
    },
    {
      "cell_type": "code",
      "source": [
        "#To check whether any null value is present or not or if present then how many\n",
        "df.isnull().sum()\n",
        "# we get to know that in genetic markers 2497 null values are present"
      ],
      "metadata": {
        "id": "wjirSSZThNYL"
      },
      "execution_count": null,
      "outputs": []
    },
    {
      "cell_type": "code",
      "source": [
        "#Check whether any duplicate(redundant) value is present or not\n",
        "df.duplicated().sum()\n",
        "# here output comes 0 , it means no duplicate value is found"
      ],
      "metadata": {
        "id": "gqU-c-ibiBfy"
      },
      "execution_count": null,
      "outputs": []
    },
    {
      "cell_type": "code",
      "source": [
        "#Tackling process of Null value\n",
        "#Directly drop the Null value using df.dropna()\n",
        "#Fill the Null value with 0 or for the string unknown\n",
        "#Use mean when data is well distributed (using statistical calculation)\n",
        "#Use median when data is not well distributed (using statistical calculation)\n",
        "#Use mode to tackle the null value for the string (using statistical calculation)"
      ],
      "metadata": {
        "id": "sE2gooQfiRsn"
      },
      "execution_count": null,
      "outputs": []
    }
  ]
}