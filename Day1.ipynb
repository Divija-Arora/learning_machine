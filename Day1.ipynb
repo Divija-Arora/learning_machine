{
  "nbformat": 4,
  "nbformat_minor": 0,
  "metadata": {
    "colab": {
      "provenance": []
    },
    "kernelspec": {
      "name": "python3",
      "display_name": "Python 3"
    },
    "language_info": {
      "name": "python"
    }
  },
  "cells": [
    {
      "cell_type": "code",
      "execution_count": null,
      "metadata": {
        "id": "6u0yxH_3GsIe"
      },
      "outputs": [],
      "source": [
        "import numpy as np\n",
        "import time"
      ]
    },
    {
      "cell_type": "markdown",
      "source": [
        "numpy is most important library used in machine learning for data arrangement"
      ],
      "metadata": {
        "id": "ITNa_Q7TyFZn"
      }
    },
    {
      "cell_type": "markdown",
      "source": [
        "1.   numpy is used to arrange data in different dimesions(data arr)\n",
        "2.   we use numpy for mathematical and statistical analysis\n",
        "3.   working with numeric numbers\n",
        "\n"
      ],
      "metadata": {
        "id": "fRlOm0VQy0ro"
      }
    },
    {
      "cell_type": "code",
      "source": [
        "dim0=np.array(100) # dim - dimension , array functin- to create array, '100'- a single elemet => zero dimensonal array because we store a single element in array.\n",
        "dim0\n"
      ],
      "metadata": {
        "id": "qG2wnWsMHY_8",
        "colab": {
          "base_uri": "https://localhost:8080/"
        },
        "outputId": "64ec3f60-8eea-40a7-fe02-6ad92aec8fd2"
      },
      "execution_count": null,
      "outputs": [
        {
          "output_type": "execute_result",
          "data": {
            "text/plain": [
              "array(100)"
            ]
          },
          "metadata": {},
          "execution_count": 3
        }
      ]
    },
    {
      "cell_type": "code",
      "source": [
        "dim0.ndim # (n means number , dim means dimension) ndim is attribute to check the dimensions of any variable or array\n",
        "# output is 0 that means it is a zero dimensional array"
      ],
      "metadata": {
        "colab": {
          "base_uri": "https://localhost:8080/"
        },
        "id": "0gfPIKqU1vNz",
        "outputId": "f6161484-afdc-4e49-9ac1-fc4d27be9f6f"
      },
      "execution_count": null,
      "outputs": [
        {
          "output_type": "execute_result",
          "data": {
            "text/plain": [
              "0"
            ]
          },
          "metadata": {},
          "execution_count": 4
        }
      ]
    },
    {
      "cell_type": "code",
      "source": [
        "# dim0=np.array([100]) # here 100 element is not stored directly, it is stored in the list- list bnakr element ko store kar dia\n",
        "# here it is 1 D not 0 D\n",
        "# dim0\n",
        "# dim0.ndim\n",
        "\n",
        "#lets check wht if list is empty\n",
        "#dim0=np.array([])\n",
        "#dim0\n",
        "#dim0.ndim #here also it is 1 D"
      ],
      "metadata": {
        "id": "2FrrUz9mgawa"
      },
      "execution_count": null,
      "outputs": []
    },
    {
      "cell_type": "markdown",
      "source": [
        "ndim is a attribute of numpy not a function , agar function hota toh end me parenthesis hota"
      ],
      "metadata": {
        "id": "3dL6oROU3-XI"
      }
    },
    {
      "cell_type": "markdown",
      "source": [
        "how will inner struture if zero dimensional array formed here will look like?"
      ],
      "metadata": {
        "id": "9K-JGNru4PUv"
      }
    },
    {
      "cell_type": "code",
      "source": [
        "dim0.shape # shape attribute of numpy is used to check the inner structure of the variable\n",
        "# we got empty parenthesis, because it is a zero dim array - it has no axis\n",
        "# conisder it like a single point - without any axis\n",
        "# coz dimension bnna shuru hota hai x axis k sath"
      ],
      "metadata": {
        "colab": {
          "base_uri": "https://localhost:8080/"
        },
        "id": "ZF1mMSOX1zPX",
        "outputId": "82038ea2-abb7-44cb-c092-9aaae8704633"
      },
      "execution_count": null,
      "outputs": [
        {
          "output_type": "execute_result",
          "data": {
            "text/plain": [
              "()"
            ]
          },
          "metadata": {},
          "execution_count": 5
        }
      ]
    },
    {
      "cell_type": "code",
      "source": [
        "dim1=np.array([1,5,8,4,7,5]) # ek array banake ek single list ko us variable me store kraya hai #dim1 is variable here\n",
        "dim1"
      ],
      "metadata": {
        "colab": {
          "base_uri": "https://localhost:8080/"
        },
        "id": "Cb12X6qU11b_",
        "outputId": "241fb971-f2a0-4ee4-cd12-0b48b59c7764"
      },
      "execution_count": null,
      "outputs": [
        {
          "output_type": "execute_result",
          "data": {
            "text/plain": [
              "array([1, 5, 8, 4, 7, 5])"
            ]
          },
          "metadata": {},
          "execution_count": 7
        }
      ]
    },
    {
      "cell_type": "code",
      "source": [
        "dim1.ndim #to check dimension"
      ],
      "metadata": {
        "colab": {
          "base_uri": "https://localhost:8080/"
        },
        "id": "z3Rtpslk14Fs",
        "outputId": "e636e23f-64b3-4f17-d512-6aeb040f9afa"
      },
      "execution_count": null,
      "outputs": [
        {
          "output_type": "execute_result",
          "data": {
            "text/plain": [
              "1"
            ]
          },
          "metadata": {},
          "execution_count": 8
        }
      ]
    },
    {
      "cell_type": "code",
      "source": [
        "dim1.shape# to check shape\n",
        "# output is 6, this 6 shows that ek variable mein aisa list store hai jisme 6 elements stored h\n",
        "# here ',' means aage bhi kuch hoga,,, jab hm 2D bnaenge."
      ],
      "metadata": {
        "colab": {
          "base_uri": "https://localhost:8080/"
        },
        "id": "-_a6KMpH17Fc",
        "outputId": "c8931263-695a-44dc-ee25-02f5df055786"
      },
      "execution_count": null,
      "outputs": [
        {
          "output_type": "execute_result",
          "data": {
            "text/plain": [
              "(6,)"
            ]
          },
          "metadata": {},
          "execution_count": 9
        }
      ]
    },
    {
      "cell_type": "code",
      "source": [
        "dim2=np.array([[1,6,7],[8,9,5],[5,7,1]]) #when multiple lists are stored in a variable - 2D array (matrix) is formed\n",
        "# ab jese ek variable ke andar we cant store 3 values directly, uske lie hm array bnate hai...\n",
        "# therefore hum teeno list ko ek list me store krenge - i.e, 3  lists se bna hua list is stored in dim2(variable)\n",
        "dim2"
      ],
      "metadata": {
        "colab": {
          "base_uri": "https://localhost:8080/"
        },
        "id": "k5Shi5ys19Oa",
        "outputId": "450b0867-fba5-43c0-bdca-405d3ea75acb"
      },
      "execution_count": null,
      "outputs": [
        {
          "output_type": "execute_result",
          "data": {
            "text/plain": [
              "array([[1, 6, 7],\n",
              "       [8, 9, 5],\n",
              "       [5, 7, 1]])"
            ]
          },
          "metadata": {},
          "execution_count": 10
        }
      ]
    },
    {
      "cell_type": "code",
      "source": [
        "dim2.ndim # check dimension"
      ],
      "metadata": {
        "colab": {
          "base_uri": "https://localhost:8080/"
        },
        "id": "TpJLLOQ52AAc",
        "outputId": "45f87d1b-8b0b-4200-84b4-ad3a835b13ec"
      },
      "execution_count": null,
      "outputs": [
        {
          "output_type": "execute_result",
          "data": {
            "text/plain": [
              "2"
            ]
          },
          "metadata": {},
          "execution_count": 11
        }
      ]
    },
    {
      "cell_type": "code",
      "source": [
        "dim2.shape # checking shape\n",
        "# we get this output, that is, this dim2 variable have three different lists, and each list have 3 elements stored in it\n",
        "# first 3 - number of lists, second 3 - number of elements in each list"
      ],
      "metadata": {
        "colab": {
          "base_uri": "https://localhost:8080/"
        },
        "id": "mlXg79O32B0x",
        "outputId": "af685499-9879-4333-ebe5-2bc4b53281dc"
      },
      "execution_count": null,
      "outputs": [
        {
          "output_type": "execute_result",
          "data": {
            "text/plain": [
              "(3, 3)"
            ]
          },
          "metadata": {},
          "execution_count": 12
        }
      ]
    },
    {
      "cell_type": "code",
      "source": [
        "dim3=np.array([[[3,8,9],[7,8,4]],[[1,5,7],[9,7,5]]]) # multiple 2D arrays (matrices) are stored in variable - we get a 3D array\n",
        "# here also, just like, ek variable me 2 values ko directly nhi store kr paenge , so here 2 matrices ko hum ek aur list me store krenge.\n",
        "dim3"
      ],
      "metadata": {
        "colab": {
          "base_uri": "https://localhost:8080/"
        },
        "id": "451PG3pT2FvF",
        "outputId": "caf5565f-da66-4cbb-eba7-b5e2256eced6"
      },
      "execution_count": null,
      "outputs": [
        {
          "output_type": "execute_result",
          "data": {
            "text/plain": [
              "array([[[3, 8, 9],\n",
              "        [7, 8, 4]],\n",
              "\n",
              "       [[1, 5, 7],\n",
              "        [9, 7, 5]]])"
            ]
          },
          "metadata": {},
          "execution_count": 15
        }
      ]
    },
    {
      "cell_type": "code",
      "source": [
        "dim3.ndim # to check dimensions"
      ],
      "metadata": {
        "colab": {
          "base_uri": "https://localhost:8080/"
        },
        "id": "xHKGJccn2Hdo",
        "outputId": "d7ca5510-2bca-41a3-edd9-10e94ed54404"
      },
      "execution_count": null,
      "outputs": [
        {
          "output_type": "execute_result",
          "data": {
            "text/plain": [
              "3"
            ]
          },
          "metadata": {},
          "execution_count": 16
        }
      ]
    },
    {
      "cell_type": "code",
      "source": [
        "dim3.shape # to check the shape\n",
        "# first 2 represents - two 2D arrays (matrices)\n",
        "# second 2 represets - each 2D array have 2 lists\n",
        "# third 3 represents - each list has 3 elements"
      ],
      "metadata": {
        "colab": {
          "base_uri": "https://localhost:8080/"
        },
        "id": "hqvJ5m6S2KPr",
        "outputId": "f0d43fb7-f4ab-4c92-bc9a-39e446edf4cb"
      },
      "execution_count": null,
      "outputs": [
        {
          "output_type": "execute_result",
          "data": {
            "text/plain": [
              "(2, 2, 3)"
            ]
          },
          "metadata": {},
          "execution_count": 17
        }
      ]
    },
    {
      "cell_type": "markdown",
      "source": [
        "Hence from here we conclude:\n",
        "\n",
        "\n",
        "---\n",
        "Agar ek variable banakr, usme hm\n",
        "\n",
        "* ek array bnakr ek element ko store krenge - 0D\n",
        "* ek list ko store krenge - 1D   \n",
        "* multiple lists store krenge - 2D\n",
        "* multiple 2D arrays ko store krenge - 3D  \n",
        "\n",
        "(generally , practially array is not used in 3D)\n",
        "\n"
      ],
      "metadata": {
        "id": "vX_wrOuP8VJO"
      }
    },
    {
      "cell_type": "code",
      "source": [
        "dim5=np.array([1,3],ndmin=5) # any dimensional array\n",
        "# suppose we are asked to make 5 dimensional array, so we are given a 1D array - [1,3]\n",
        "# here will pass an argument 'ndmin' which means \"number of dimension in\"\n",
        "\n",
        "dim5\n",
        "\n",
        "# hence this will result in 5Dimensional array.\n",
        "# here we can see elements ke aound 5 layers h, so here dimensions means ki elements kitni layer ke andr stored h"
      ],
      "metadata": {
        "colab": {
          "base_uri": "https://localhost:8080/"
        },
        "id": "yc5dgdPO2NOV",
        "outputId": "abaeddbb-7520-4203-bcbd-f39a24abf803"
      },
      "execution_count": null,
      "outputs": [
        {
          "output_type": "execute_result",
          "data": {
            "text/plain": [
              "array([[[[[1, 3]]]]])"
            ]
          },
          "metadata": {},
          "execution_count": 18
        }
      ]
    },
    {
      "cell_type": "code",
      "source": [
        "a2=[[[3,8,9],[7,8,4]],[[1,5,7],[9,7,5]]]\n",
        "a2"
      ],
      "metadata": {
        "colab": {
          "base_uri": "https://localhost:8080/"
        },
        "id": "e4ZtYpXm2NmT",
        "outputId": "2a8fd433-6d0c-4be0-b951-2a62d154b528"
      },
      "execution_count": null,
      "outputs": [
        {
          "output_type": "execute_result",
          "data": {
            "text/plain": [
              "[[[3, 8, 9], [7, 8, 4]], [[1, 5, 7], [9, 7, 5]]]"
            ]
          },
          "metadata": {},
          "execution_count": 22
        }
      ]
    },
    {
      "cell_type": "code",
      "source": [
        "start=time.time()\n",
        "a=np.arange(100_00_00_00)\n",
        "for i in range(len(a)):\n",
        "  a[i]+=5\n",
        "end=time.time()\n",
        "req=end-start\n",
        "req\n"
      ],
      "metadata": {
        "colab": {
          "base_uri": "https://localhost:8080/"
        },
        "id": "Ncqi-75W2RNZ",
        "outputId": "5e443c90-2e05-4ccb-cfc2-6782f366bfdf"
      },
      "execution_count": null,
      "outputs": [
        {
          "output_type": "execute_result",
          "data": {
            "text/plain": [
              "45.899296045303345"
            ]
          },
          "metadata": {},
          "execution_count": 17
        }
      ]
    },
    {
      "cell_type": "code",
      "source": [
        "start=time.time()\n",
        "a=np.arange(100_00_00_00)\n",
        "a=a+5\n",
        "end=time.time()\n",
        "req=end-start\n",
        "req\n",
        "\n"
      ],
      "metadata": {
        "colab": {
          "base_uri": "https://localhost:8080/"
        },
        "id": "2IsulyBV2he7",
        "outputId": "b352eb71-8c49-412a-de1e-f46ee390f066"
      },
      "execution_count": null,
      "outputs": [
        {
          "output_type": "execute_result",
          "data": {
            "text/plain": [
              "0.8898394107818604"
            ]
          },
          "metadata": {},
          "execution_count": 18
        }
      ]
    },
    {
      "cell_type": "code",
      "source": [
        "dim1 # this is 1 D array\n",
        "# indexing krte hai\n",
        "\n",
        "# index number - positional value - konsi position pr stored h"
      ],
      "metadata": {
        "colab": {
          "base_uri": "https://localhost:8080/"
        },
        "id": "6iZ_7a2c2T6E",
        "outputId": "1e687324-0c62-4c73-b173-021cd19a5a7f"
      },
      "execution_count": null,
      "outputs": [
        {
          "output_type": "execute_result",
          "data": {
            "text/plain": [
              "array([1, 5, 8, 4, 7, 5])"
            ]
          },
          "metadata": {},
          "execution_count": 19
        }
      ]
    },
    {
      "cell_type": "markdown",
      "source": [
        "Indexing\n",
        "\n",
        "\n",
        "*   Forward Indexing - left to right - from 0 index to nth.\n",
        "Here in array from 1 to 5 agar jaye toh that is forward indexing.\n",
        " #### Here counting will begin from 0.\n",
        "\n",
        "*   Backward Indexing / Negative Indexing - right to left - from nth to 0.\n",
        "Here in arrat if we go from 5 to 1, it is backward indexing.\n",
        " #### Here counting will begin from -1.\n"
      ],
      "metadata": {
        "id": "0wn1YRyuMCqo"
      }
    },
    {
      "cell_type": "code",
      "source": [
        "dim1[2]"
      ],
      "metadata": {
        "colab": {
          "base_uri": "https://localhost:8080/"
        },
        "id": "8qbJQcpFNgts",
        "outputId": "ff727be0-fce4-4f96-f8fc-a1804eb520b4"
      },
      "execution_count": null,
      "outputs": [
        {
          "output_type": "execute_result",
          "data": {
            "text/plain": [
              "np.int64(8)"
            ]
          },
          "metadata": {},
          "execution_count": 20
        }
      ]
    },
    {
      "cell_type": "code",
      "source": [
        "dim1[-4]"
      ],
      "metadata": {
        "colab": {
          "base_uri": "https://localhost:8080/"
        },
        "id": "ozYBX7t1NrAl",
        "outputId": "ebdc1786-92ea-4113-c567-811574ac451a"
      },
      "execution_count": null,
      "outputs": [
        {
          "output_type": "execute_result",
          "data": {
            "text/plain": [
              "np.int64(8)"
            ]
          },
          "metadata": {},
          "execution_count": 21
        }
      ]
    },
    {
      "cell_type": "markdown",
      "source": [
        "hence every element have two positional values, one from forward indexing another from backward, just like happens in python"
      ],
      "metadata": {
        "id": "92LGUK2zN6T5"
      }
    },
    {
      "cell_type": "code",
      "source": [
        "dim1=dim1+10 # will add10 to each elements of the array\n",
        "dim1"
      ],
      "metadata": {
        "colab": {
          "base_uri": "https://localhost:8080/"
        },
        "id": "oikbfilI2nQJ",
        "outputId": "dd50e8e5-868e-448c-db78-a9d33a428099"
      },
      "execution_count": null,
      "outputs": [
        {
          "output_type": "execute_result",
          "data": {
            "text/plain": [
              "array([11, 15, 18, 14, 17, 15])"
            ]
          },
          "metadata": {},
          "execution_count": 22
        }
      ]
    },
    {
      "cell_type": "code",
      "source": [
        "dim1"
      ],
      "metadata": {
        "colab": {
          "base_uri": "https://localhost:8080/"
        },
        "id": "8xKict8X2o1A",
        "outputId": "64568bf6-daa6-4c3d-8c39-a3ac9b65cd55"
      },
      "execution_count": null,
      "outputs": [
        {
          "output_type": "execute_result",
          "data": {
            "text/plain": [
              "array([11, 15, 18, 14, 17, 15])"
            ]
          },
          "metadata": {},
          "execution_count": 23
        }
      ]
    },
    {
      "cell_type": "code",
      "source": [
        "dim1[-2] #negative indexing"
      ],
      "metadata": {
        "colab": {
          "base_uri": "https://localhost:8080/"
        },
        "id": "yEz_6Xhd2q2h",
        "outputId": "530509c1-9932-447f-9701-ec9e6d0d6ba1"
      },
      "execution_count": null,
      "outputs": [
        {
          "output_type": "execute_result",
          "data": {
            "text/plain": [
              "np.int64(17)"
            ]
          },
          "metadata": {},
          "execution_count": 24
        }
      ]
    },
    {
      "cell_type": "code",
      "source": [
        "dim2 # in case of 2D array, locating any element\n",
        "# here first list ki position 0, second ki 1,..."
      ],
      "metadata": {
        "colab": {
          "base_uri": "https://localhost:8080/"
        },
        "id": "-3VG3NHI2seK",
        "outputId": "98d98d13-af3d-49dd-ab23-d64cc79eb51a"
      },
      "execution_count": null,
      "outputs": [
        {
          "output_type": "execute_result",
          "data": {
            "text/plain": [
              "array([[1, 6, 7],\n",
              "       [8, 9, 5],\n",
              "       [5, 7, 1]])"
            ]
          },
          "metadata": {},
          "execution_count": 25
        }
      ]
    },
    {
      "cell_type": "code",
      "source": [
        "dim2[1,1] # first 1 indicates list1, sceond 1 indicates 1st index of list1"
      ],
      "metadata": {
        "colab": {
          "base_uri": "https://localhost:8080/"
        },
        "id": "AnXXo6zL2u9M",
        "outputId": "d2a3b510-236e-4d9f-f7fb-fd54a49658be"
      },
      "execution_count": null,
      "outputs": [
        {
          "output_type": "execute_result",
          "data": {
            "text/plain": [
              "np.int64(9)"
            ]
          },
          "metadata": {},
          "execution_count": 26
        }
      ]
    },
    {
      "cell_type": "code",
      "source": [
        "#accessing the same thing via negative index\n",
        "dim2[-2,-2]"
      ],
      "metadata": {
        "colab": {
          "base_uri": "https://localhost:8080/"
        },
        "id": "VKtWs3XXGUPU",
        "outputId": "49ab4c89-31ee-4394-fb99-de1a7a996c1d"
      },
      "execution_count": null,
      "outputs": [
        {
          "output_type": "execute_result",
          "data": {
            "text/plain": [
              "np.int64(9)"
            ]
          },
          "metadata": {},
          "execution_count": 27
        }
      ]
    },
    {
      "cell_type": "code",
      "source": [
        "dim2[1,0:2] #slicing\n",
        "# 0 is initaitaing value- khn sekatna shuru krrhe h, 2 is jhn pr khtm krenge katna\n",
        "# hmne 8 and9 ko slice krke nikala h\n",
        "# slicing ka rule ek jyada position lena pdta\n",
        "#slicing means bade part me se chhota sa part niklana"
      ],
      "metadata": {
        "colab": {
          "base_uri": "https://localhost:8080/"
        },
        "id": "4ooSlv_VZtrc",
        "outputId": "4a933719-cefb-4cec-e8bc-093ecf6491a5"
      },
      "execution_count": null,
      "outputs": [
        {
          "output_type": "execute_result",
          "data": {
            "text/plain": [
              "array([8, 9])"
            ]
          },
          "metadata": {},
          "execution_count": 28
        }
      ]
    },
    {
      "cell_type": "code",
      "source": [
        "#via negative slicing\n",
        "dim2[-2,-3:-1]"
      ],
      "metadata": {
        "colab": {
          "base_uri": "https://localhost:8080/"
        },
        "id": "eGEcX3FXaUS9",
        "outputId": "fa994b9e-9e53-4646-81c3-dcde0bf56478"
      },
      "execution_count": null,
      "outputs": [
        {
          "output_type": "execute_result",
          "data": {
            "text/plain": [
              "array([8, 9])"
            ]
          },
          "metadata": {},
          "execution_count": 29
        }
      ]
    },
    {
      "cell_type": "code",
      "source": [
        "dim2[1,1:] # 1 ke baad jitne b h slice krdo including that as well which is at 1"
      ],
      "metadata": {
        "colab": {
          "base_uri": "https://localhost:8080/"
        },
        "id": "OSk0MkaE2whQ",
        "outputId": "bf5747b5-070c-4c4a-8cbd-69fa06aeafc3"
      },
      "execution_count": null,
      "outputs": [
        {
          "output_type": "execute_result",
          "data": {
            "text/plain": [
              "array([9, 5])"
            ]
          },
          "metadata": {},
          "execution_count": 30
        }
      ]
    },
    {
      "cell_type": "code",
      "source": [
        "dim3 #in case of 3D, locating an element\n",
        "# 3 layered h - outermost layer- matrix stored h, then matrix me list stored hai, thn list me element milega"
      ],
      "metadata": {
        "colab": {
          "base_uri": "https://localhost:8080/"
        },
        "id": "oZnVF8gR2yFd",
        "outputId": "5e05eab3-28bf-4aa4-c6fe-7f1a11387f92"
      },
      "execution_count": null,
      "outputs": [
        {
          "output_type": "execute_result",
          "data": {
            "text/plain": [
              "array([[[3, 8, 9],\n",
              "        [7, 8, 4]],\n",
              "\n",
              "       [[1, 5, 7],\n",
              "        [9, 7, 5]]])"
            ]
          },
          "metadata": {},
          "execution_count": 31
        }
      ]
    },
    {
      "cell_type": "code",
      "source": [
        "dim3[1,0,1:]"
      ],
      "metadata": {
        "colab": {
          "base_uri": "https://localhost:8080/"
        },
        "id": "wmyTnRmJ2zr_",
        "outputId": "5a1523df-c197-44cb-eb3c-039c5f79945e"
      },
      "execution_count": null,
      "outputs": [
        {
          "output_type": "execute_result",
          "data": {
            "text/plain": [
              "array([5, 7])"
            ]
          },
          "metadata": {},
          "execution_count": 32
        }
      ]
    },
    {
      "cell_type": "code",
      "source": [
        "dim3[1,1,0]"
      ],
      "metadata": {
        "colab": {
          "base_uri": "https://localhost:8080/"
        },
        "id": "a_HAdO1v23WS",
        "outputId": "ea1a075e-a574-484b-fc9a-b3cd42e3ad6e"
      },
      "execution_count": null,
      "outputs": [
        {
          "output_type": "execute_result",
          "data": {
            "text/plain": [
              "np.int64(9)"
            ]
          },
          "metadata": {},
          "execution_count": 33
        }
      ]
    },
    {
      "cell_type": "code",
      "source": [
        "dim3[1,1,0]=10 #mutation\n",
        "# suppose mujhe yhn 9 ki jgh 10 krna h - khn pr? second matrix ke second list ke first index(position) pr\n",
        "# badalna h - replace krna h (mutation)\n",
        "# so this is mutation\n",
        "dim3 #printing updated dim3"
      ],
      "metadata": {
        "colab": {
          "base_uri": "https://localhost:8080/"
        },
        "id": "EtOb1rdqJ7yC",
        "outputId": "8b533e02-3751-4d65-8393-7db29a3c40c8"
      },
      "execution_count": null,
      "outputs": [
        {
          "output_type": "execute_result",
          "data": {
            "text/plain": [
              "array([[[ 3,  8,  9],\n",
              "        [ 7,  8,  4]],\n",
              "\n",
              "       [[ 1,  5,  7],\n",
              "        [10,  7,  5]]])"
            ]
          },
          "metadata": {},
          "execution_count": 34
        }
      ]
    },
    {
      "cell_type": "code",
      "source": [
        "#z122[2,0,0]"
      ],
      "metadata": {
        "id": "0kTpDAxo26dR"
      },
      "execution_count": null,
      "outputs": []
    },
    {
      "cell_type": "code",
      "source": [
        "# ab tak jo bhi array bn rha tha, uske lie elements hmne khud bnaye the\n",
        "# ab hum numbers manually nhi declare krenge, randomly bnaenge\n",
        "a1=np.random.randint(100) # here a1 is variable , random - class name, randint function where rand- random and int - for integer\n",
        "# koi bhi ek numeric number can either be integer(whole number) or float(decimal number)\n",
        "# a random number can be from 0 to infinite\n",
        "# therefore here max range is 100 and min range is 0, i.e, yahan 100 se jyada number print nhi hoga\n",
        "a1 # output me random number print hoga but no greater than 100"
      ],
      "metadata": {
        "colab": {
          "base_uri": "https://localhost:8080/"
        },
        "id": "MqnFsD-JnhfB",
        "outputId": "2e5647ca-62a1-452a-beec-041a9b8fd256"
      },
      "execution_count": null,
      "outputs": [
        {
          "output_type": "execute_result",
          "data": {
            "text/plain": [
              "66"
            ]
          },
          "metadata": {},
          "execution_count": 36
        }
      ]
    },
    {
      "cell_type": "code",
      "source": [
        "# but agar hm dekhe , kisi bhi ek project me agar hum random number bnakr kaam krenge toh everytime a new random number will be generated- jitni br bhi code ko run krenge\n",
        "# this will reuslt in different outputs everytime\n",
        "# but we want is random number toh generate ho, but vo jo number create horha h vo hmesha alag number na ho\n",
        "# ek br randomly number generate hgya, uske baad jitni bar bi cell ko run kru, same number create ho\n",
        "# for that we will lock reproductivity - for that we will use seed function\n",
        "np.random.seed(1) # seed ko lock krne k lie we will pass a numeric number\n",
        "# we passes 1 to lock seed, that means ek br number randomly generate hgya, fir uske baad vo same rhega\n",
        "# ye 1 -ek particular seed number ko choose krleta h, 1 se konsa number choose hoga na ye phle se set h\n",
        "# ab seed ko agr 2 krde, tb different number hoga, but firse run krenge toh same rhega\n",
        "# ab seed number 6000 krdia, tb alag number hoga, but firse run krenge toh same rhega\n",
        "# i.e, seed function hmesha ek argument ko lega jo ek numeric number h usse vo ye denote krke rkhega ki konsa number create hoga\n",
        "a1=np.random.randint(100)\n",
        "a1\n",
        "# in case we dont pass any number in seed function, it wont work"
      ],
      "metadata": {
        "colab": {
          "base_uri": "https://localhost:8080/"
        },
        "id": "OYDwHM_ErAuo",
        "outputId": "a93eeb4b-6fba-43ee-878e-a6ca279dfe64"
      },
      "execution_count": null,
      "outputs": [
        {
          "output_type": "execute_result",
          "data": {
            "text/plain": [
              "37"
            ]
          },
          "metadata": {},
          "execution_count": 37
        }
      ]
    },
    {
      "cell_type": "code",
      "source": [
        "# for generating randomly float number\n",
        "a2=np.random.rand() # rand - rand function ki speciallity ye hoti hai - its range lie between 0 to 1 - [0,1)\n",
        "a2 #randomly float number is genearted - between o to 1"
      ],
      "metadata": {
        "colab": {
          "base_uri": "https://localhost:8080/"
        },
        "id": "6yhnjjHV0Tz2",
        "outputId": "dd137ab0-ff76-4e56-ac2a-2dd81fa8251b"
      },
      "execution_count": null,
      "outputs": [
        {
          "output_type": "execute_result",
          "data": {
            "text/plain": [
              "0.9971848109388686"
            ]
          },
          "metadata": {},
          "execution_count": 38
        }
      ]
    },
    {
      "cell_type": "code",
      "source": [
        "# for locking its reproductivity, seed krdenge\n",
        "np.random.seed(3) # its like ab ye 3 number id bn gya h, is id me store rha - ki jb bhi koi seed function use krke is trah se run krega output 0.55.... hoga.\n",
        "a2=np.random.rand()\n",
        "a2"
      ],
      "metadata": {
        "colab": {
          "base_uri": "https://localhost:8080/"
        },
        "id": "Olc88DNd06px",
        "outputId": "fc4369d1-b208-43b4-e806-5a34f658f834"
      },
      "execution_count": null,
      "outputs": [
        {
          "output_type": "execute_result",
          "data": {
            "text/plain": [
              "0.5507979025745755"
            ]
          },
          "metadata": {},
          "execution_count": 39
        }
      ]
    },
    {
      "cell_type": "code",
      "source": [
        "# now is random number se alag alag dimenions ke array bnane h"
      ],
      "metadata": {
        "id": "1tM2kY9M2x6L"
      },
      "execution_count": null,
      "outputs": []
    },
    {
      "cell_type": "code",
      "source": [
        "# 1D Array\n",
        "d1=np.random.randint(15,size=(10))\n",
        "# d1 name ke variable ke andr randomly no. generate krke ek 1D array bnana h\n",
        "# randint me max range is 15 here\n",
        "# size argument is passed here - alag alag dimensions ke array bnane k lie - here it is 10\n",
        "# that is yahn pr 10 randomly integer number create hoke, usse ek 1D array bna\n",
        "d1"
      ],
      "metadata": {
        "colab": {
          "base_uri": "https://localhost:8080/"
        },
        "id": "4LueHMuY25Ru",
        "outputId": "a190e152-917a-43fd-9eee-3a8c2185c099"
      },
      "execution_count": null,
      "outputs": [
        {
          "output_type": "execute_result",
          "data": {
            "text/plain": [
              "array([ 9,  3,  8,  8,  0,  5, 13,  3, 10, 11])"
            ]
          },
          "metadata": {},
          "execution_count": 41
        }
      ]
    },
    {
      "cell_type": "code",
      "source": [
        "# for 2D array\n",
        "d2=np.random.randint(15,size=(3,5)) # 3 list bne aur hr list me 5 elements ho\n",
        "d2"
      ],
      "metadata": {
        "colab": {
          "base_uri": "https://localhost:8080/"
        },
        "id": "KD-EcEKn6y31",
        "outputId": "979a7253-e359-4fd1-d583-5ba59f834ee1"
      },
      "execution_count": null,
      "outputs": [
        {
          "output_type": "execute_result",
          "data": {
            "text/plain": [
              "array([[ 9,  9, 10,  5,  7],\n",
              "       [ 6,  0,  4, 12, 13],\n",
              "       [ 7, 14,  8, 10,  1]])"
            ]
          },
          "metadata": {},
          "execution_count": 42
        }
      ]
    },
    {
      "cell_type": "code",
      "source": [
        "# for 3D array\n",
        "d3=np.random.randint(15,size=(3,5,2)) # 3 2D array bne, hr 2D array me 5 list bne aur hr list me 2 elements ho\n",
        "d3"
      ],
      "metadata": {
        "colab": {
          "base_uri": "https://localhost:8080/"
        },
        "id": "yVZZNmUb7N_O",
        "outputId": "787289d8-cf18-45b6-c397-c5c811fea509"
      },
      "execution_count": null,
      "outputs": [
        {
          "output_type": "execute_result",
          "data": {
            "text/plain": [
              "array([[[10,  6],\n",
              "        [ 2,  2],\n",
              "        [12,  1],\n",
              "        [ 3, 10],\n",
              "        [ 5,  8]],\n",
              "\n",
              "       [[14,  1],\n",
              "        [13, 10],\n",
              "        [ 8, 11],\n",
              "        [14,  7],\n",
              "        [ 8, 11]],\n",
              "\n",
              "       [[ 1, 11],\n",
              "        [ 0,  5],\n",
              "        [ 4, 14],\n",
              "        [ 1,  5],\n",
              "        [14,  4]]])"
            ]
          },
          "metadata": {},
          "execution_count": 43
        }
      ]
    },
    {
      "cell_type": "code",
      "source": [
        "# for float numbers\n",
        "b1=np.random.rand(3) # ab here rand function me range dene ki need hai nhi\n",
        "# size argument dene ki lag se bi need nhi h - just pass directly\n",
        "b1 # here 3 float numbers will be created\n",
        "# 1D Array"
      ],
      "metadata": {
        "colab": {
          "base_uri": "https://localhost:8080/"
        },
        "id": "YLEAguLw7vsd",
        "outputId": "f7c5516c-2e5b-43e6-8d3d-dec92391bf75"
      },
      "execution_count": null,
      "outputs": [
        {
          "output_type": "execute_result",
          "data": {
            "text/plain": [
              "array([0.97599542, 0.67238368, 0.90283411])"
            ]
          },
          "metadata": {},
          "execution_count": 44
        }
      ]
    },
    {
      "cell_type": "code",
      "source": [
        "# for 2D array\n",
        "b2=np.random.rand(2,5) # creating a 2D array which has 2 lists and every list has 5 elements\n",
        "b2"
      ],
      "metadata": {
        "colab": {
          "base_uri": "https://localhost:8080/"
        },
        "id": "OgEvpdbs8kQQ",
        "outputId": "0c684e30-cfe3-464b-fd65-0f4fd5ca9228"
      },
      "execution_count": null,
      "outputs": [
        {
          "output_type": "execute_result",
          "data": {
            "text/plain": [
              "array([[0.84575087, 0.37799404, 0.09221701, 0.6534109 , 0.55784076],\n",
              "       [0.36156476, 0.2250545 , 0.40651992, 0.46894025, 0.26923558]])"
            ]
          },
          "metadata": {},
          "execution_count": 45
        }
      ]
    },
    {
      "cell_type": "code",
      "source": [
        "# for 3D array\n",
        "b3=np.random.rand(2,2,5) # creating a 3D array which has 2 2D arrays, each of which has 2 lists, where each list has 5 elements\n",
        "b3"
      ],
      "metadata": {
        "colab": {
          "base_uri": "https://localhost:8080/"
        },
        "id": "JMHc9NwE9es4",
        "outputId": "d195e3ae-f472-4ecd-dee7-f768c3077939"
      },
      "execution_count": null,
      "outputs": [
        {
          "output_type": "execute_result",
          "data": {
            "text/plain": [
              "array([[[0.29179277, 0.4576864 , 0.86053391, 0.5862529 , 0.28348786],\n",
              "        [0.27797751, 0.45462208, 0.20541034, 0.20137871, 0.51403506]],\n",
              "\n",
              "       [[0.08722937, 0.48358553, 0.36217621, 0.70768662, 0.74674622],\n",
              "        [0.69109292, 0.68918041, 0.37360012, 0.6681348 , 0.33984866]]])"
            ]
          },
          "metadata": {},
          "execution_count": 46
        }
      ]
    },
    {
      "cell_type": "markdown",
      "source": [
        "# Now what about float numbers which lie outside the range from 0 to 1.\n",
        "## how can we generate them?"
      ],
      "metadata": {
        "id": "jPJ1L14F-zr9"
      }
    },
    {
      "cell_type": "code",
      "source": [
        "# for that we will create a uniform function\n",
        "c1=np.random.uniform(1.5,12.5,(10)) # uniform function me range set krenge - 1.5,12.5\n",
        "# 10 elements bnana h\n",
        "c1\n",
        "# 1D Array"
      ],
      "metadata": {
        "colab": {
          "base_uri": "https://localhost:8080/"
        },
        "id": "Af-vjqK6-8om",
        "outputId": "e34dbfd4-676e-48ed-f884-03b894162e40"
      },
      "execution_count": null,
      "outputs": [
        {
          "output_type": "execute_result",
          "data": {
            "text/plain": [
              "array([ 7.80073257,  5.08387874,  6.39659554,  2.17681824,  4.16942964,\n",
              "       12.18762867,  4.03642625,  9.10625262,  8.65524544,  9.46333053])"
            ]
          },
          "metadata": {},
          "execution_count": 47
        }
      ]
    },
    {
      "cell_type": "code",
      "source": [
        "c2=np.random.uniform(1.5,12.5,(2,5))\n",
        "c2\n",
        "# 2D Array"
      ],
      "metadata": {
        "colab": {
          "base_uri": "https://localhost:8080/"
        },
        "id": "S8s6V6W8_g18",
        "outputId": "c67d1a7c-cbe2-4aab-df18-fa08a79001bf"
      },
      "execution_count": null,
      "outputs": [
        {
          "output_type": "execute_result",
          "data": {
            "text/plain": [
              "array([[6.72597472, 8.06330152, 2.23666366, 2.29818352, 3.68873629],\n",
              "       [3.17047097, 2.60114779, 2.92223251, 7.58605505, 3.56596307]])"
            ]
          },
          "metadata": {},
          "execution_count": 48
        }
      ]
    },
    {
      "cell_type": "code",
      "source": [
        "c2=np.random.uniform(1.5,12.5,(2,5,2))\n",
        "c2\n",
        "# 3D Array"
      ],
      "metadata": {
        "colab": {
          "base_uri": "https://localhost:8080/"
        },
        "id": "9JnzHvVGA7BL",
        "outputId": "f65d7cf9-3117-473b-b358-8cc12d6d8f58"
      },
      "execution_count": null,
      "outputs": [
        {
          "output_type": "execute_result",
          "data": {
            "text/plain": [
              "array([[[11.97311367,  8.99772957],\n",
              "        [ 7.45121641,  9.27898661],\n",
              "        [ 4.40275338, 11.69398253],\n",
              "        [10.73112364,  9.48951448],\n",
              "        [ 6.78263952, 10.76313504]],\n",
              "\n",
              "       [[ 9.69227556,  8.76358497],\n",
              "        [11.55372794,  8.4703212 ],\n",
              "        [ 5.52534643,  7.5812903 ],\n",
              "        [ 3.66018634,  3.61279526],\n",
              "        [ 9.48236586, 10.13430374]]])"
            ]
          },
          "metadata": {},
          "execution_count": 49
        }
      ]
    },
    {
      "cell_type": "code",
      "source": [
        "f1=np.arange(5) # this arange function , 5 numbers ko 0-5 arrange krke 1-D array bnadega (by default - 1D array)\n",
        "f1"
      ],
      "metadata": {
        "id": "TouhhL0MBAv1",
        "colab": {
          "base_uri": "https://localhost:8080/"
        },
        "outputId": "fb0d49b9-5995-4e91-faa9-7271a414b451"
      },
      "execution_count": null,
      "outputs": [
        {
          "output_type": "execute_result",
          "data": {
            "text/plain": [
              "array([0, 1, 2, 3, 4])"
            ]
          },
          "metadata": {},
          "execution_count": 24
        }
      ]
    },
    {
      "cell_type": "code",
      "source": [
        "# for 2D array\n",
        "f2=np.arange(15).reshape(5,3) #reshape function is used\n",
        "# reshape in a way - 2D - therefore 5,3 reprsents 5 lists which have three elements each.\n",
        "f2"
      ],
      "metadata": {
        "colab": {
          "base_uri": "https://localhost:8080/"
        },
        "id": "73isJ-Cu1jys",
        "outputId": "ea020f46-7c55-4e31-aab1-808362872c3d"
      },
      "execution_count": null,
      "outputs": [
        {
          "output_type": "execute_result",
          "data": {
            "text/plain": [
              "array([[ 0,  1,  2],\n",
              "       [ 3,  4,  5],\n",
              "       [ 6,  7,  8],\n",
              "       [ 9, 10, 11],\n",
              "       [12, 13, 14]])"
            ]
          },
          "metadata": {},
          "execution_count": 51
        }
      ]
    },
    {
      "cell_type": "code",
      "source": [
        "# for 3D array\n",
        "f2=np.arange(30).reshape(2,5,3) #reshape function is used\n",
        "# reshape in a way - 3D - therefore 2,5,3 reprsents 2 2D arrays 5 lists which have three elements each.\n",
        "f2"
      ],
      "metadata": {
        "colab": {
          "base_uri": "https://localhost:8080/"
        },
        "id": "Lz3k89k82pTq",
        "outputId": "58f877eb-4b53-4edb-92cd-6f4f34ef2821"
      },
      "execution_count": null,
      "outputs": [
        {
          "output_type": "execute_result",
          "data": {
            "text/plain": [
              "array([[[ 0,  1,  2],\n",
              "        [ 3,  4,  5],\n",
              "        [ 6,  7,  8],\n",
              "        [ 9, 10, 11],\n",
              "        [12, 13, 14]],\n",
              "\n",
              "       [[15, 16, 17],\n",
              "        [18, 19, 20],\n",
              "        [21, 22, 23],\n",
              "        [24, 25, 26],\n",
              "        [27, 28, 29]]])"
            ]
          },
          "metadata": {},
          "execution_count": 52
        }
      ]
    },
    {
      "cell_type": "code",
      "source": [
        "np.random.randn(10)\n",
        "# randn function minus tk b ja skta h (negative also)\n",
        "# in this kisi b range me kuch b bn skta h"
      ],
      "metadata": {
        "colab": {
          "base_uri": "https://localhost:8080/"
        },
        "id": "GYbguhSu3d1s",
        "outputId": "4b76484f-9ece-4b68-80e8-dd1f06a543b1"
      },
      "execution_count": null,
      "outputs": [
        {
          "output_type": "execute_result",
          "data": {
            "text/plain": [
              "array([-0.1801878 , -1.14869046, -0.2617224 , -0.54647578,  0.11697458,\n",
              "        0.41787753, -1.25912727,  2.20163972,  0.78854293,  1.19294367])"
            ]
          },
          "metadata": {},
          "execution_count": 26
        }
      ]
    },
    {
      "cell_type": "code",
      "source": [
        "np.random.randn(5, 10)\n",
        "# here 2D array\n",
        "# 5 lists me 10 elements\n",
        "# so in this way randomly we can generate numbers, and alag alag dimensions ke array bna skte h"
      ],
      "metadata": {
        "colab": {
          "base_uri": "https://localhost:8080/"
        },
        "id": "6uVjF7xC4rK6",
        "outputId": "bf01f003-ca88-4dac-a0a6-1441744390d5"
      },
      "execution_count": null,
      "outputs": [
        {
          "output_type": "execute_result",
          "data": {
            "text/plain": [
              "array([[-0.26049995, -1.08196788,  0.84529098,  1.29044416, -1.7735216 ,\n",
              "        -0.16553826,  0.37179608,  0.12399172, -0.74006828, -0.11100907],\n",
              "       [ 0.04999369,  0.56383677, -0.33582789,  0.34345702,  0.87308123,\n",
              "        -1.08991005, -0.29804335,  0.74004134,  1.01229161, -0.87811496],\n",
              "       [ 0.48444183, -0.84971216,  0.49327823,  0.74141899,  1.34580752,\n",
              "        -0.83644784, -0.41935506, -0.81206664,  0.99657921, -0.21245916],\n",
              "       [-1.20479405, -0.54019703,  0.6634043 , -0.52493532, -1.83790984,\n",
              "        -0.1510628 ,  0.02445475,  0.02192558, -0.08818496, -0.12662486],\n",
              "       [ 0.28488278,  0.27135218, -1.13679136, -0.95467019,  1.34267254,\n",
              "        -2.35490523,  1.52416604,  0.19253784, -0.76746492,  1.22783377]])"
            ]
          },
          "metadata": {},
          "execution_count": 54
        }
      ]
    },
    {
      "cell_type": "markdown",
      "source": [
        "the main class used here is random class.\n",
        "randn, rand, randint, arange - jitne bhi randomly number bnane ka function h sb random class se derive hote h"
      ],
      "metadata": {
        "id": "KsQIJ4VO53qn"
      }
    },
    {
      "cell_type": "markdown",
      "source": [
        "radint - always positive dega, rest can be randomly negative too,\n",
        "rand is also positvie form 0 to 1.\n",
        "randn can be positive or negative,its range lies from - to +."
      ],
      "metadata": {
        "id": "m1BMvMMa6_Zq"
      }
    },
    {
      "cell_type": "code",
      "source": [
        "dim2"
      ],
      "metadata": {
        "colab": {
          "base_uri": "https://localhost:8080/"
        },
        "id": "EKRwFoLL7Fb7",
        "outputId": "f4921823-16c9-42da-9418-bf4fbd6f0b36"
      },
      "execution_count": null,
      "outputs": [
        {
          "output_type": "execute_result",
          "data": {
            "text/plain": [
              "array([[1, 6, 7],\n",
              "       [8, 9, 5],\n",
              "       [5, 7, 1]])"
            ]
          },
          "metadata": {},
          "execution_count": 55
        }
      ]
    },
    {
      "cell_type": "code",
      "source": [
        "# adding 10 to every element of dim2\n",
        "dim2=dim2+10\n",
        "\n",
        "# while python me loops chlane pdte, but here no need in numpy"
      ],
      "metadata": {
        "id": "Rn8rJrysCR06"
      },
      "execution_count": null,
      "outputs": []
    },
    {
      "cell_type": "markdown",
      "source": [
        "in numpy, any mathematical or statistial formula applied in variable toh vo directly element me jakr apply hota h.....this is called broadcasting rule of numpy"
      ],
      "metadata": {
        "id": "KG_NMzqFC8s8"
      }
    },
    {
      "cell_type": "code",
      "source": [
        "dim2 #hence numpy is 100 times faster than python"
      ],
      "metadata": {
        "colab": {
          "base_uri": "https://localhost:8080/"
        },
        "id": "162nxW4tCk2H",
        "outputId": "2932bbd2-10e3-4350-9fc0-350031fe79b2"
      },
      "execution_count": null,
      "outputs": [
        {
          "output_type": "execute_result",
          "data": {
            "text/plain": [
              "array([[11, 16, 17],\n",
              "       [18, 19, 15],\n",
              "       [15, 17, 11]])"
            ]
          },
          "metadata": {},
          "execution_count": 57
        }
      ]
    },
    {
      "cell_type": "code",
      "source": [
        "#python has a library named time\n",
        "import time #measures time"
      ],
      "metadata": {
        "id": "OTyo_h4HEFkm"
      },
      "execution_count": null,
      "outputs": []
    },
    {
      "cell_type": "code",
      "source": [
        "start_time = time.time() # time library ke andr se time function ko import kia\n",
        "a1=np.arange(1000000) # 0 se is digit tk jitne bhi numbers honge, hr ek ke bare me baat horhi h...\n",
        "for i in range(len(a1)): #ab ise ek range bnake , us range me jitne bhi elements h usme 10 add krrhe h\n",
        "#used a loop(we r doing in python)\n",
        "  a1[i]+=10 #want to add\n",
        "end=time.time()\n",
        "total_time=end-start_time #jitna time laga total= end(jitne time me kaam khtm hohra h) me se start time(jab kaam start hua tha) minus krdia\n",
        "#after running it, its execution takes around 8-10 seconds(python)"
      ],
      "metadata": {
        "id": "0C4CI4DdEPOC"
      },
      "execution_count": null,
      "outputs": []
    },
    {
      "cell_type": "code",
      "source": [
        "total_time"
      ],
      "metadata": {
        "colab": {
          "base_uri": "https://localhost:8080/"
        },
        "id": "wTeHH7NGHdF-",
        "outputId": "0f8f5c8c-0a3c-4244-c1ae-aadcf966f346"
      },
      "execution_count": null,
      "outputs": [
        {
          "output_type": "execute_result",
          "data": {
            "text/plain": [
              "0.35989880561828613"
            ]
          },
          "metadata": {},
          "execution_count": 60
        }
      ]
    },
    {
      "cell_type": "code",
      "source": [
        "#doing the same task using numpy\n",
        "start_time = time.time()\n",
        "a1=np.arange(1000000)\n",
        "a1=a1+10\n",
        "end=time.time()\n",
        "total_time=end-start_time\n",
        "#broadcasting means direct application , where no loop or functon is there\n",
        "#broadcasting means agar variable ke andr 1 lakh elements b store h, then individually every element is denoted by the variable\n",
        "#agr variable ke andr ek lakh elements store h, and agr variable me kuch changes krenge toh vo changes hr ek element me hoga\n",
        "#for example, ek variable me puri ek list store hai, then vo variable us list ko b denote krega and us list me stored hr ek elements ko b denote krega"
      ],
      "metadata": {
        "id": "fzoe7ogKxOc7"
      },
      "execution_count": null,
      "outputs": []
    },
    {
      "cell_type": "code",
      "source": [
        "total_time # total time taken is less here"
      ],
      "metadata": {
        "colab": {
          "base_uri": "https://localhost:8080/"
        },
        "id": "l2G4chMexoX3",
        "outputId": "c1e83e41-835a-4d1c-c6ac-ebbd735a155c"
      },
      "execution_count": null,
      "outputs": [
        {
          "output_type": "execute_result",
          "data": {
            "text/plain": [
              "0.007109642028808594"
            ]
          },
          "metadata": {},
          "execution_count": 62
        }
      ]
    },
    {
      "cell_type": "markdown",
      "source": [
        "therefore we use numpy(specialised version of python) instead of python"
      ],
      "metadata": {
        "id": "46Dh1R-fyR-m"
      }
    },
    {
      "cell_type": "code",
      "source": [],
      "metadata": {
        "id": "IYs6dnyyylmY"
      },
      "execution_count": null,
      "outputs": []
    },
    {
      "cell_type": "code",
      "source": [],
      "metadata": {
        "id": "F-4IePi1ykCb"
      },
      "execution_count": null,
      "outputs": []
    }
  ]
}